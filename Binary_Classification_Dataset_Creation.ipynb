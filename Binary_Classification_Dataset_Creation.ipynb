{
 "cells": [
  {
   "cell_type": "markdown",
   "metadata": {},
   "source": [
    "# Data Set Creation for Binary Classification\n",
    "The COVID-19 Radiography Database being used is available at: https://www.kaggle.com/tawsifurrahman/covid19-radiography-database\n",
    "\n",
    "This database consists of 1200 COVID-19, 1345 Viral Pneumonia and 1341 Normal X-Ray images.\n",
    "\n",
    "The database will be divided into training,validation, testing and webapp prediction datasets for COVID and Non-COVID categories, where Non-COVID includes Normal and Viral Pneumonia images. The dataset split will be 80% of data for training, 10% for validation, 8% for testing the model and the remaining 2% data to be used for testing the webapp."
   ]
  },
  {
   "cell_type": "code",
   "execution_count": 1,
   "metadata": {},
   "outputs": [],
   "source": [
    "import pandas as pd\n",
    "import os\n",
    "import random\n",
    "import shutil"
   ]
  },
  {
   "cell_type": "code",
   "execution_count": 2,
   "metadata": {},
   "outputs": [
    {
     "name": "stdout",
     "output_type": "stream",
     "text": [
      "(1200, 4)\n"
     ]
    },
    {
     "data": {
      "text/html": [
       "<div>\n",
       "<style scoped>\n",
       "    .dataframe tbody tr th:only-of-type {\n",
       "        vertical-align: middle;\n",
       "    }\n",
       "\n",
       "    .dataframe tbody tr th {\n",
       "        vertical-align: top;\n",
       "    }\n",
       "\n",
       "    .dataframe thead th {\n",
       "        text-align: right;\n",
       "    }\n",
       "</style>\n",
       "<table border=\"1\" class=\"dataframe\">\n",
       "  <thead>\n",
       "    <tr style=\"text-align: right;\">\n",
       "      <th></th>\n",
       "      <th>FILE NAME</th>\n",
       "      <th>FORMAT</th>\n",
       "      <th>SIZE</th>\n",
       "      <th>URL</th>\n",
       "    </tr>\n",
       "  </thead>\n",
       "  <tbody>\n",
       "    <tr>\n",
       "      <th>0</th>\n",
       "      <td>COVID 1</td>\n",
       "      <td>PNG</td>\n",
       "      <td>256*256</td>\n",
       "      <td>https://sirm.org/category/senza-categoria/covi...</td>\n",
       "    </tr>\n",
       "    <tr>\n",
       "      <th>1</th>\n",
       "      <td>COVID 2</td>\n",
       "      <td>PNG</td>\n",
       "      <td>256*256</td>\n",
       "      <td>https://sirm.org/category/senza-categoria/covi...</td>\n",
       "    </tr>\n",
       "    <tr>\n",
       "      <th>2</th>\n",
       "      <td>COVID 3</td>\n",
       "      <td>PNG</td>\n",
       "      <td>256*256</td>\n",
       "      <td>https://sirm.org/category/senza-categoria/covi...</td>\n",
       "    </tr>\n",
       "    <tr>\n",
       "      <th>3</th>\n",
       "      <td>COVID 4</td>\n",
       "      <td>PNG</td>\n",
       "      <td>256*256</td>\n",
       "      <td>https://sirm.org/category/senza-categoria/covi...</td>\n",
       "    </tr>\n",
       "    <tr>\n",
       "      <th>4</th>\n",
       "      <td>COVID 5</td>\n",
       "      <td>PNG</td>\n",
       "      <td>256*256</td>\n",
       "      <td>https://sirm.org/category/senza-categoria/covi...</td>\n",
       "    </tr>\n",
       "  </tbody>\n",
       "</table>\n",
       "</div>"
      ],
      "text/plain": [
       "  FILE NAME FORMAT     SIZE                                                URL\n",
       "0   COVID 1    PNG  256*256  https://sirm.org/category/senza-categoria/covi...\n",
       "1   COVID 2    PNG  256*256  https://sirm.org/category/senza-categoria/covi...\n",
       "2   COVID 3    PNG  256*256  https://sirm.org/category/senza-categoria/covi...\n",
       "3   COVID 4    PNG  256*256  https://sirm.org/category/senza-categoria/covi...\n",
       "4   COVID 5    PNG  256*256  https://sirm.org/category/senza-categoria/covi..."
      ]
     },
     "execution_count": 2,
     "metadata": {},
     "output_type": "execute_result"
    }
   ],
   "source": [
    "#Metadata and Image paths for all Covid samples from the dataset\n",
    "\n",
    "COVID_FILE_PATH = \"COVID-19-Radiography-Database/COVID.metadata.csv\"\n",
    "COVID_IMAGES_PATH = \"COVID-19-Radiography-Database/COVID\"\n",
    "covid_df = pd.read_csv(COVID_FILE_PATH) #Read csv file containing metadata for all Covid images\n",
    "print(covid_df.shape)\n",
    "covid_df.head()"
   ]
  },
  {
   "cell_type": "code",
   "execution_count": 3,
   "metadata": {},
   "outputs": [
    {
     "name": "stdout",
     "output_type": "stream",
     "text": [
      "(1345, 4)\n"
     ]
    },
    {
     "data": {
      "text/html": [
       "<div>\n",
       "<style scoped>\n",
       "    .dataframe tbody tr th:only-of-type {\n",
       "        vertical-align: middle;\n",
       "    }\n",
       "\n",
       "    .dataframe tbody tr th {\n",
       "        vertical-align: top;\n",
       "    }\n",
       "\n",
       "    .dataframe thead th {\n",
       "        text-align: right;\n",
       "    }\n",
       "</style>\n",
       "<table border=\"1\" class=\"dataframe\">\n",
       "  <thead>\n",
       "    <tr style=\"text-align: right;\">\n",
       "      <th></th>\n",
       "      <th>FILE NAME</th>\n",
       "      <th>FORMAT</th>\n",
       "      <th>SIZE</th>\n",
       "      <th>URL</th>\n",
       "    </tr>\n",
       "  </thead>\n",
       "  <tbody>\n",
       "    <tr>\n",
       "      <th>0</th>\n",
       "      <td>Viral Pneumonia-1</td>\n",
       "      <td>PNG</td>\n",
       "      <td>1024*1024</td>\n",
       "      <td>https://www.kaggle.com/paultimothymooney/chest...</td>\n",
       "    </tr>\n",
       "    <tr>\n",
       "      <th>1</th>\n",
       "      <td>Viral Pneumonia-2</td>\n",
       "      <td>PNG</td>\n",
       "      <td>1024*1024</td>\n",
       "      <td>https://www.kaggle.com/paultimothymooney/chest...</td>\n",
       "    </tr>\n",
       "    <tr>\n",
       "      <th>2</th>\n",
       "      <td>Viral Pneumonia-3</td>\n",
       "      <td>PNG</td>\n",
       "      <td>1024*1024</td>\n",
       "      <td>https://www.kaggle.com/paultimothymooney/chest...</td>\n",
       "    </tr>\n",
       "    <tr>\n",
       "      <th>3</th>\n",
       "      <td>Viral Pneumonia-4</td>\n",
       "      <td>PNG</td>\n",
       "      <td>1024*1024</td>\n",
       "      <td>https://www.kaggle.com/paultimothymooney/chest...</td>\n",
       "    </tr>\n",
       "    <tr>\n",
       "      <th>4</th>\n",
       "      <td>Viral Pneumonia-5</td>\n",
       "      <td>PNG</td>\n",
       "      <td>1024*1024</td>\n",
       "      <td>https://www.kaggle.com/paultimothymooney/chest...</td>\n",
       "    </tr>\n",
       "  </tbody>\n",
       "</table>\n",
       "</div>"
      ],
      "text/plain": [
       "           FILE NAME FORMAT       SIZE  \\\n",
       "0  Viral Pneumonia-1    PNG  1024*1024   \n",
       "1  Viral Pneumonia-2    PNG  1024*1024   \n",
       "2  Viral Pneumonia-3    PNG  1024*1024   \n",
       "3  Viral Pneumonia-4    PNG  1024*1024   \n",
       "4  Viral Pneumonia-5    PNG  1024*1024   \n",
       "\n",
       "                                                 URL  \n",
       "0  https://www.kaggle.com/paultimothymooney/chest...  \n",
       "1  https://www.kaggle.com/paultimothymooney/chest...  \n",
       "2  https://www.kaggle.com/paultimothymooney/chest...  \n",
       "3  https://www.kaggle.com/paultimothymooney/chest...  \n",
       "4  https://www.kaggle.com/paultimothymooney/chest...  "
      ]
     },
     "execution_count": 3,
     "metadata": {},
     "output_type": "execute_result"
    }
   ],
   "source": [
    "#Metadata and Image paths for all Pneumonia samples from the dataset\n",
    "\n",
    "VIRAL_PNEUMONIA_FILE_PATH = \"COVID-19-Radiography-Database/ViralPneumonia.metadata.csv\"\n",
    "VIRAL_PNEUMONIA_IMAGES_PATH = \"COVID-19-Radiography-Database/ViralPneumonia\"\n",
    "viral_pneumonia_df = pd.read_csv(VIRAL_PNEUMONIA_FILE_PATH) #Read csv file containing metadata for all Covid images\n",
    "print(viral_pneumonia_df.shape)\n",
    "viral_pneumonia_df.head()"
   ]
  },
  {
   "cell_type": "code",
   "execution_count": 4,
   "metadata": {},
   "outputs": [
    {
     "name": "stdout",
     "output_type": "stream",
     "text": [
      "(1341, 4)\n"
     ]
    },
    {
     "data": {
      "text/html": [
       "<div>\n",
       "<style scoped>\n",
       "    .dataframe tbody tr th:only-of-type {\n",
       "        vertical-align: middle;\n",
       "    }\n",
       "\n",
       "    .dataframe tbody tr th {\n",
       "        vertical-align: top;\n",
       "    }\n",
       "\n",
       "    .dataframe thead th {\n",
       "        text-align: right;\n",
       "    }\n",
       "</style>\n",
       "<table border=\"1\" class=\"dataframe\">\n",
       "  <thead>\n",
       "    <tr style=\"text-align: right;\">\n",
       "      <th></th>\n",
       "      <th>FILE NAME</th>\n",
       "      <th>FORMAT</th>\n",
       "      <th>SIZE</th>\n",
       "      <th>URL</th>\n",
       "    </tr>\n",
       "  </thead>\n",
       "  <tbody>\n",
       "    <tr>\n",
       "      <th>0</th>\n",
       "      <td>NORMAL-1</td>\n",
       "      <td>PNG</td>\n",
       "      <td>1024*1024</td>\n",
       "      <td>https://www.kaggle.com/paultimothymooney/chest...</td>\n",
       "    </tr>\n",
       "    <tr>\n",
       "      <th>1</th>\n",
       "      <td>NORMAL-2</td>\n",
       "      <td>PNG</td>\n",
       "      <td>1024*1024</td>\n",
       "      <td>https://www.kaggle.com/paultimothymooney/chest...</td>\n",
       "    </tr>\n",
       "    <tr>\n",
       "      <th>2</th>\n",
       "      <td>NORMAL-3</td>\n",
       "      <td>PNG</td>\n",
       "      <td>1024*1024</td>\n",
       "      <td>https://www.kaggle.com/paultimothymooney/chest...</td>\n",
       "    </tr>\n",
       "    <tr>\n",
       "      <th>3</th>\n",
       "      <td>NORMAL-4</td>\n",
       "      <td>PNG</td>\n",
       "      <td>1024*1024</td>\n",
       "      <td>https://www.kaggle.com/paultimothymooney/chest...</td>\n",
       "    </tr>\n",
       "    <tr>\n",
       "      <th>4</th>\n",
       "      <td>NORMAL-5</td>\n",
       "      <td>PNG</td>\n",
       "      <td>1024*1024</td>\n",
       "      <td>https://www.kaggle.com/paultimothymooney/chest...</td>\n",
       "    </tr>\n",
       "  </tbody>\n",
       "</table>\n",
       "</div>"
      ],
      "text/plain": [
       "  FILE NAME FORMAT       SIZE  \\\n",
       "0  NORMAL-1    PNG  1024*1024   \n",
       "1  NORMAL-2    PNG  1024*1024   \n",
       "2  NORMAL-3    PNG  1024*1024   \n",
       "3  NORMAL-4    PNG  1024*1024   \n",
       "4  NORMAL-5    PNG  1024*1024   \n",
       "\n",
       "                                                 URL  \n",
       "0  https://www.kaggle.com/paultimothymooney/chest...  \n",
       "1  https://www.kaggle.com/paultimothymooney/chest...  \n",
       "2  https://www.kaggle.com/paultimothymooney/chest...  \n",
       "3  https://www.kaggle.com/paultimothymooney/chest...  \n",
       "4  https://www.kaggle.com/paultimothymooney/chest...  "
      ]
     },
     "execution_count": 4,
     "metadata": {},
     "output_type": "execute_result"
    }
   ],
   "source": [
    "#Metadata and Image paths for all Normal samples from the dataset\n",
    "\n",
    "NORMAL_FILE_PATH = \"COVID-19-Radiography-Database/NORMAL.metadata.csv\"\n",
    "NORMAL_IMAGES_PATH = \"COVID-19-Radiography-Database/NORMAL\"\n",
    "normal_df = pd.read_csv(NORMAL_FILE_PATH) #Read csv file containing metadata for all Covid images\n",
    "print(normal_df.shape)\n",
    "normal_df.head()\n"
   ]
  },
  {
   "cell_type": "code",
   "execution_count": 5,
   "metadata": {},
   "outputs": [
    {
     "name": "stdout",
     "output_type": "stream",
     "text": [
      "Created Binary Dataset folder\n",
      "Created COVID Training Data folder\n",
      "Created Non-COVID Training Data folder\n",
      "Created COVID Validation Data folder\n",
      "Created Non-COVID Validation Data folder\n",
      "Created COVID Test Data folder\n",
      "Created Non-COVID Test Data folder\n",
      "Created COVID WebApp Prediction Data folder\n",
      "Created Non-COVID WebApp Prediction Data folder\n"
     ]
    }
   ],
   "source": [
    "#Creating the directories and folders \n",
    "#for training, validation,testing and webapp predictions datasets\n",
    "Target_Dir = 'BinaryDataset'\n",
    "Covid_Train_Dir = 'BinaryDataset/Train/COVID'\n",
    "NonCovid_Train_Dir = 'BinaryDataset/Train/Non-COVID'\n",
    "\n",
    "Covid_Val_Dir = 'BinaryDataset/Validation/COVID'\n",
    "NonCovid_Val_Dir = 'BinaryDataset/Validation/Non-COVID'\n",
    "\n",
    "Covid_Test_Dir = 'BinaryDataset/Test/COVID'\n",
    "NonCovid_Test_Dir = 'BinaryDataset/Test/Non-COVID'\n",
    "\n",
    "Covid_WebPred_Dir = 'BinaryDataset/WebAppPrediction/COVID'\n",
    "NonCovid_WebPred_Dir = 'BinaryDataset/WebAppPrediction/Non-COVID'\n",
    "\n",
    "if not os.path.exists(Target_Dir):\n",
    "    os.makedirs(Target_Dir)\n",
    "    print(\"Created Binary Dataset folder\")\n",
    "    \n",
    "    os.makedirs(Covid_Train_Dir)\n",
    "    print(\"Created COVID Training Data folder\")\n",
    "    os.makedirs(NonCovid_Train_Dir)\n",
    "    print(\"Created Non-COVID Training Data folder\")\n",
    "    \n",
    "    os.makedirs(Covid_Val_Dir)\n",
    "    print(\"Created COVID Validation Data folder\")\n",
    "    os.makedirs(NonCovid_Val_Dir)\n",
    "    print(\"Created Non-COVID Validation Data folder\")\n",
    "    \n",
    "    os.makedirs(Covid_Test_Dir)\n",
    "    print(\"Created COVID Test Data folder\")\n",
    "    os.makedirs(NonCovid_Test_Dir)\n",
    "    print(\"Created Non-COVID Test Data folder\")\n",
    "    \n",
    "    os.makedirs(Covid_WebPred_Dir)\n",
    "    print(\"Created COVID WebApp Prediction Data folder\")\n",
    "    os.makedirs(NonCovid_WebPred_Dir)\n",
    "    print(\"Created Non-COVID WebApp Prediction Data folder\")"
   ]
  },
  {
   "cell_type": "code",
   "execution_count": 6,
   "metadata": {},
   "outputs": [],
   "source": [
    "#Save all the image file names into arrays \n",
    "Covid_image_names = os.listdir(COVID_IMAGES_PATH)\n",
    "Pneumonia_image_names = os.listdir(VIRAL_PNEUMONIA_IMAGES_PATH)\n",
    "Normal_image_names = os.listdir(NORMAL_IMAGES_PATH)"
   ]
  },
  {
   "cell_type": "code",
   "execution_count": 7,
   "metadata": {},
   "outputs": [
    {
     "name": "stdout",
     "output_type": "stream",
     "text": [
      "Total number of COVID images:  1200\n",
      "Total number of Viral Pneumonia images:  1345\n",
      "Total number of Normal images:  1341\n"
     ]
    }
   ],
   "source": [
    "print(\"Total number of COVID images: \" , len(Covid_image_names))\n",
    "print(\"Total number of Viral Pneumonia images: \" , len(Pneumonia_image_names))\n",
    "print(\"Total number of Normal images: \" , len(Normal_image_names))"
   ]
  },
  {
   "cell_type": "code",
   "execution_count": 8,
   "metadata": {},
   "outputs": [
    {
     "name": "stdout",
     "output_type": "stream",
     "text": [
      "No. of COVID images to be used for training:  960\n",
      "No. of COVID images to be used for validation:  120\n",
      "No. of COVID images to be used for testing:  96\n",
      "Remaining COVID images that can be used for web application predictions:  24\n"
     ]
    }
   ],
   "source": [
    "#Splitting up all the COVID images into Train, Val, Test and Webapp Prediction datasets\n",
    "Covid_image_names.sort() # to make sure that the filenames have a fixed order before shuffling\n",
    "#To make sure to have the same split each time this code is run, \n",
    "#we need to fix the random seed before shuffling the filenames\n",
    "random.seed(60) \n",
    "random.shuffle(Covid_image_names) # shuffles the ordering of image names\n",
    "\n",
    "split_1 = int(0.8 * len(Covid_image_names))\n",
    "split_2 = int(0.9 * len(Covid_image_names))\n",
    "split_3 = int(0.98 * len(Covid_image_names))\n",
    "Covid_train_img_names = Covid_image_names[:split_1]\n",
    "Covid_val_img_names = Covid_image_names[split_1:split_2]\n",
    "Covid_test_img_names = Covid_image_names[split_2:split_3]\n",
    "Covid_webpred_img_names = Covid_image_names[split_3:]\n",
    "\n",
    "print(\"No. of COVID images to be used for training: \",len(Covid_train_img_names))\n",
    "print(\"No. of COVID images to be used for validation: \",len(Covid_val_img_names))\n",
    "print(\"No. of COVID images to be used for testing: \",len(Covid_test_img_names))\n",
    "print(\"Remaining COVID images that can be used for web application predictions: \",len(Covid_webpred_img_names))"
   ]
  },
  {
   "cell_type": "code",
   "execution_count": 9,
   "metadata": {
    "scrolled": true
   },
   "outputs": [
    {
     "name": "stdout",
     "output_type": "stream",
     "text": [
      "Copied  960  images from COVID dataset path to the COVID Training directory\n",
      "Copied  120  images from COVID dataset path to the COVID Validation directory\n",
      "Copied  96  images from COVID dataset path to the COVID Test directory\n",
      "Copied the remaining  24  images from COVID dataset path to the COVID WebApp Predictions directory\n"
     ]
    }
   ],
   "source": [
    "#Copying the images from the COVID directory to their respective Training, Test, Validation and WebApp Prediction Datasets\n",
    "for i in range(len(Covid_train_img_names)):\n",
    "    img_element = Covid_train_img_names[i]\n",
    "    Covid_image_path = os.path.join(COVID_IMAGES_PATH,img_element)\n",
    "    Covid_train_img_path = os.path.join(Covid_Train_Dir,img_element)\n",
    "    shutil.copy2(Covid_image_path,Covid_train_img_path)\n",
    "print(\"Copied \",i+1,\" images from COVID dataset path to the COVID Training directory\")\n",
    "\n",
    "\n",
    "for i in range(len(Covid_val_img_names)):\n",
    "    img_element = Covid_val_img_names[i]\n",
    "    Covid_image_path = os.path.join(COVID_IMAGES_PATH,img_element)\n",
    "    Covid_val_img_path = os.path.join(Covid_Val_Dir,img_element)\n",
    "    shutil.copy2(Covid_image_path,Covid_val_img_path)\n",
    "print(\"Copied \",i+1,\" images from COVID dataset path to the COVID Validation directory\")\n",
    "\n",
    "\n",
    "for i in range(len(Covid_test_img_names)):\n",
    "    img_element = Covid_test_img_names[i]\n",
    "    Covid_image_path = os.path.join(COVID_IMAGES_PATH,img_element)\n",
    "    Covid_test_img_path = os.path.join(Covid_Test_Dir,img_element)\n",
    "    shutil.copy2(Covid_image_path,Covid_test_img_path)\n",
    "print(\"Copied \",i+1,\" images from COVID dataset path to the COVID Test directory\")\n",
    "\n",
    "for i in range(len(Covid_webpred_img_names)):\n",
    "    img_element = Covid_webpred_img_names[i]\n",
    "    Covid_image_path = os.path.join(COVID_IMAGES_PATH,img_element)\n",
    "    Covid_webpred_img_path = os.path.join(Covid_WebPred_Dir,img_element)\n",
    "    shutil.copy2(Covid_image_path,Covid_webpred_img_path)\n",
    "print(\"Copied the remaining \",i+1,\" images from COVID dataset path to the COVID WebApp Predictions directory\")"
   ]
  },
  {
   "cell_type": "code",
   "execution_count": 12,
   "metadata": {},
   "outputs": [
    {
     "name": "stdout",
     "output_type": "stream",
     "text": [
      "No. of viral pneumonia images to be sent to the Non-COVID Training Dataset: 1076\n",
      "No. of viral pneumonia images to be sent to the Non-COVID Validation Dataset: 134\n",
      "No. of viral pneumonia images to be sent to the Non-COVID Testing Dataset: 108\n",
      "Remaining viral pneumonia images to be sent to the Non-COVID Web App Prediction Dataset: 27\n"
     ]
    }
   ],
   "source": [
    "#Sorting and then shuffling the viral pneumonia image names array\n",
    "#before combining them into the Non-Covid testing, training and validation datasets.\n",
    "#The remaining Viral Pneumonia X-Ray images are then sent to the WebApp Predictions dataset\n",
    "# so that they can be used to test the predictions of different models using the Web Application.\n",
    "Pneumonia_image_names.sort()\n",
    "random.seed(50) \n",
    "random.shuffle(Pneumonia_image_names)\n",
    "split_1 = int(0.8 * (len(Pneumonia_image_names)))\n",
    "split_2 = int(0.9 * (len(Pneumonia_image_names)))\n",
    "split_3 = int(0.98 * len(Pneumonia_image_names))\n",
    "Pneumonia_train_img_names = Pneumonia_image_names[:split_1]\n",
    "Pneumonia_val_img_names = Pneumonia_image_names[split_1:split_2]\n",
    "Pneumonia_test_img_names = Pneumonia_image_names[split_2: split_3]\n",
    "Pneumonia_webpred_img_names = Pneumonia_image_names[split_3:]\n",
    "\n",
    "print(\"No. of viral pneumonia images to be sent to the Non-COVID Training Dataset:\",len(Pneumonia_train_img_names))\n",
    "print(\"No. of viral pneumonia images to be sent to the Non-COVID Validation Dataset:\",len(Pneumonia_val_img_names))\n",
    "print(\"No. of viral pneumonia images to be sent to the Non-COVID Testing Dataset:\",len(Pneumonia_test_img_names))\n",
    "print(\"Remaining viral pneumonia images to be sent to the Non-COVID Web App Prediction Dataset:\",len(Pneumonia_webpred_img_names))"
   ]
  },
  {
   "cell_type": "code",
   "execution_count": 13,
   "metadata": {},
   "outputs": [
    {
     "name": "stdout",
     "output_type": "stream",
     "text": [
      "Copied  1076  images from Viral Pneumonia dataset path to the Non-COVID Training directory\n",
      "Copied  134  images from Viral Pneumonia dataset path to the Non-COVID Validation directory\n",
      "Copied  108  images from Viral Pneumonia dataset path to the Non-COVID Test directory\n",
      "Copied the remaining  27  images from Viral Pneumonia dataset path to the Non-COVID WebApp Predictions directory\n"
     ]
    }
   ],
   "source": [
    "for i in range(len(Pneumonia_train_img_names)):\n",
    "    img_element = Pneumonia_train_img_names[i]\n",
    "    Pneumonia_image_path = os.path.join(VIRAL_PNEUMONIA_IMAGES_PATH,img_element)\n",
    "    NonCovid_train_img_path = os.path.join(NonCovid_Train_Dir,img_element)\n",
    "    shutil.copy2(Pneumonia_image_path,NonCovid_train_img_path)\n",
    "print(\"Copied \",i+1,\" images from Viral Pneumonia dataset path to the Non-COVID Training directory\")\n",
    "\n",
    "\n",
    "for i in range(len(Pneumonia_val_img_names)):\n",
    "    img_element = Pneumonia_val_img_names[i]\n",
    "    Pneumonia_image_path = os.path.join(VIRAL_PNEUMONIA_IMAGES_PATH,img_element)\n",
    "    NonCovid_val_img_path = os.path.join(NonCovid_Val_Dir,img_element)\n",
    "    shutil.copy2(Pneumonia_image_path,NonCovid_val_img_path)\n",
    "print(\"Copied \",i+1,\" images from Viral Pneumonia dataset path to the Non-COVID Validation directory\")\n",
    "\n",
    "\n",
    "for i in range(len(Pneumonia_test_img_names)):\n",
    "    img_element = Pneumonia_test_img_names[i]\n",
    "    Pneumonia_image_path = os.path.join(VIRAL_PNEUMONIA_IMAGES_PATH,img_element)\n",
    "    NonCovid_test_img_path = os.path.join(NonCovid_Test_Dir,img_element)\n",
    "    shutil.copy2(Pneumonia_image_path,NonCovid_test_img_path)\n",
    "print(\"Copied \",i+1,\" images from Viral Pneumonia dataset path to the Non-COVID Test directory\")\n",
    "\n",
    "for i in range(len(Pneumonia_webpred_img_names)):\n",
    "    img_element = Pneumonia_webpred_img_names[i]\n",
    "    Pneumonia_image_path = os.path.join(VIRAL_PNEUMONIA_IMAGES_PATH,img_element)\n",
    "    NonCovid_webpred_img_path = os.path.join(NonCovid_WebPred_Dir,img_element)\n",
    "    shutil.copy2(Pneumonia_image_path,NonCovid_webpred_img_path)\n",
    "print(\"Copied the remaining \",i+1,\" images from Viral Pneumonia dataset path to the Non-COVID WebApp Predictions directory\")"
   ]
  },
  {
   "cell_type": "code",
   "execution_count": 15,
   "metadata": {},
   "outputs": [
    {
     "name": "stdout",
     "output_type": "stream",
     "text": [
      "No. of Normal images to be sent to the Non-COVID Training Dataset: 1072\n",
      "No. of Normal images to be sent to the Non-COVID Validation Dataset: 134\n",
      "No. of Normal images to be sent to the Non-COVID Testing Dataset: 108\n",
      "Remaining Normal images to be sent to the Non-COVID Web App Prediction Dataset: 27\n"
     ]
    }
   ],
   "source": [
    "#Sorting and then shuffling the Normal image names array\n",
    "#before combining half of it into the Non-Covid testing, training and validation datasets.\n",
    "#The remaining Normal X-Ray images are then sent to the WebApp Predictions dataset\n",
    "# so that they can used to test the predictions of different models using the Web Application.\n",
    "Normal_image_names.sort()\n",
    "random.seed(40) \n",
    "random.shuffle(Normal_image_names)\n",
    "split_1 = int(0.8 * (len(Normal_image_names)))\n",
    "split_2 = int(0.9 * (len(Normal_image_names)))\n",
    "split_3 = int(0.98 *(len(Normal_image_names)))\n",
    "Normal_train_img_names = Normal_image_names[:split_1]\n",
    "Normal_val_img_names = Normal_image_names[split_1:split_2]\n",
    "Normal_test_img_names = Normal_image_names[split_2: split_3]\n",
    "Normal_webpred_img_names = Normal_image_names[split_3:]\n",
    "\n",
    "print(\"No. of Normal images to be sent to the Non-COVID Training Dataset:\",len(Normal_train_img_names))\n",
    "print(\"No. of Normal images to be sent to the Non-COVID Validation Dataset:\",len(Normal_val_img_names))\n",
    "print(\"No. of Normal images to be sent to the Non-COVID Testing Dataset:\",len(Normal_test_img_names))\n",
    "print(\"Remaining Normal images to be sent to the Non-COVID Web App Prediction Dataset:\",len(Normal_webpred_img_names))"
   ]
  },
  {
   "cell_type": "code",
   "execution_count": 16,
   "metadata": {},
   "outputs": [
    {
     "name": "stdout",
     "output_type": "stream",
     "text": [
      "Copied  1072  images from Normal images dataset path to the Non-COVID Training directory\n",
      "Copied  134  images from Normal images dataset path to the Non-COVID Validation directory\n",
      "Copied  108  images from Normal images dataset path to the Non-COVID Test directory\n",
      "Copied the remaining 27  images from Normal images dataset path to the Non-COVID WebApp Predictions directory\n"
     ]
    }
   ],
   "source": [
    "for i in range(len(Normal_train_img_names)):\n",
    "    img_element = Normal_train_img_names[i]\n",
    "    Normal_image_path = os.path.join(NORMAL_IMAGES_PATH,img_element)\n",
    "    NonCovid_train_img_path = os.path.join(NonCovid_Train_Dir,img_element)\n",
    "    shutil.copy2(Normal_image_path,NonCovid_train_img_path)\n",
    "print(\"Copied \",i+1,\" images from Normal images dataset path to the Non-COVID Training directory\")\n",
    "\n",
    "\n",
    "for i in range(len(Normal_val_img_names)):\n",
    "    img_element = Normal_val_img_names[i]\n",
    "    Normal_image_path = os.path.join(NORMAL_IMAGES_PATH,img_element)\n",
    "    NonCovid_val_img_path = os.path.join(NonCovid_Val_Dir,img_element)\n",
    "    shutil.copy2(Normal_image_path,NonCovid_val_img_path)\n",
    "print(\"Copied \",i+1,\" images from Normal images dataset path to the Non-COVID Validation directory\")\n",
    "\n",
    "\n",
    "for i in range(len(Normal_test_img_names)):\n",
    "    img_element = Normal_test_img_names[i]\n",
    "    Normal_image_path = os.path.join(NORMAL_IMAGES_PATH,img_element)\n",
    "    NonCovid_test_img_path = os.path.join(NonCovid_Test_Dir,img_element)\n",
    "    shutil.copy2(Normal_image_path,NonCovid_test_img_path)\n",
    "print(\"Copied \",i+1,\" images from Normal images dataset path to the Non-COVID Test directory\")\n",
    "\n",
    "for i in range(len(Normal_webpred_img_names)):\n",
    "    img_element = Normal_webpred_img_names[i]\n",
    "    Normal_image_path = os.path.join(NORMAL_IMAGES_PATH,img_element)\n",
    "    NonCovid_webpred_img_path = os.path.join(NonCovid_WebPred_Dir,img_element)\n",
    "    shutil.copy2(Normal_image_path,NonCovid_webpred_img_path)\n",
    "print(\"Copied the remaining\",i+1,\" images from Normal images dataset path to the Non-COVID WebApp Predictions directory\")"
   ]
  },
  {
   "cell_type": "code",
   "execution_count": 17,
   "metadata": {},
   "outputs": [
    {
     "name": "stdout",
     "output_type": "stream",
     "text": [
      "Total number of Non-COVID images used for training:  2148\n",
      "Total number of Non-COVID images used for validation:  268\n",
      "Total number of Non-COVID images used for testing:  216\n",
      "Remaining Non-COVID images that can be used for web application predictions:  54\n"
     ]
    }
   ],
   "source": [
    "print(\"Total number of Non-COVID images used for training: \",len(os.listdir(NonCovid_Train_Dir)))\n",
    "print(\"Total number of Non-COVID images used for validation: \",len(os.listdir(NonCovid_Val_Dir)))\n",
    "print(\"Total number of Non-COVID images used for testing: \",len(os.listdir(NonCovid_Test_Dir)))\n",
    "print(\"Remaining Non-COVID images that can be used for web application predictions: \",len(os.listdir(NonCovid_WebPred_Dir)))"
   ]
  },
  {
   "cell_type": "markdown",
   "metadata": {},
   "source": [
    "Dataset for binary classification of COVID and Non-COVID Chest X-rays has been created"
   ]
  }
 ],
 "metadata": {
  "kernelspec": {
   "display_name": "Python 3",
   "language": "python",
   "name": "python3"
  },
  "language_info": {
   "codemirror_mode": {
    "name": "ipython",
    "version": 3
   },
   "file_extension": ".py",
   "mimetype": "text/x-python",
   "name": "python",
   "nbconvert_exporter": "python",
   "pygments_lexer": "ipython3",
   "version": "3.8.6"
  }
 },
 "nbformat": 4,
 "nbformat_minor": 4
}
