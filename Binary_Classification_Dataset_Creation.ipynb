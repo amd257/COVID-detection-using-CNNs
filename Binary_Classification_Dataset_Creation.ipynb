{
 "cells": [
  {
   "cell_type": "markdown",
   "metadata": {},
   "source": [
    "# Data Set Creation for Binary Classification\n",
    "The COVID-19 Radiography Database being used is available at: https://www.kaggle.com/tawsifurrahman/covid19-radiography-database\n",
    "\n",
    "This database consists of 3616 COVID-19, 10192 Normal, 6012 Lung Opacity(Non-COVID Lung Infection) and 1345 Non-COVID Viral Pneumonia X-Ray images.\n",
    "\n",
    "The database will be divided into training,validation, testing and webapp prediction datasets for COVID and Non-COVID categories, where Non-COVID includes Normal, Non-COVID Lung Infection and Viral Pneumonia images. The dataset split will be 80% of data for training, 10% for validation, 9% for testing the model and the remaining 1% data to be used for testing the webapp."
   ]
  },
  {
   "cell_type": "code",
   "execution_count": 3,
   "metadata": {},
   "outputs": [],
   "source": [
    "import pandas as pd\n",
    "import os\n",
    "import random\n",
    "import shutil"
   ]
  },
  {
   "cell_type": "code",
   "execution_count": 4,
   "metadata": {},
   "outputs": [
    {
     "name": "stdout",
     "output_type": "stream",
     "text": [
      "(3616, 4)\n"
     ]
    },
    {
     "data": {
      "text/html": [
       "<div>\n",
       "<style scoped>\n",
       "    .dataframe tbody tr th:only-of-type {\n",
       "        vertical-align: middle;\n",
       "    }\n",
       "\n",
       "    .dataframe tbody tr th {\n",
       "        vertical-align: top;\n",
       "    }\n",
       "\n",
       "    .dataframe thead th {\n",
       "        text-align: right;\n",
       "    }\n",
       "</style>\n",
       "<table border=\"1\" class=\"dataframe\">\n",
       "  <thead>\n",
       "    <tr style=\"text-align: right;\">\n",
       "      <th></th>\n",
       "      <th>FILE NAME</th>\n",
       "      <th>FORMAT</th>\n",
       "      <th>SIZE</th>\n",
       "      <th>URL</th>\n",
       "    </tr>\n",
       "  </thead>\n",
       "  <tbody>\n",
       "    <tr>\n",
       "      <th>0</th>\n",
       "      <td>COVID-1</td>\n",
       "      <td>PNG</td>\n",
       "      <td>256*256</td>\n",
       "      <td>https://sirm.org/category/senza-categoria/covi...</td>\n",
       "    </tr>\n",
       "    <tr>\n",
       "      <th>1</th>\n",
       "      <td>COVID-2</td>\n",
       "      <td>PNG</td>\n",
       "      <td>256*256</td>\n",
       "      <td>https://sirm.org/category/senza-categoria/covi...</td>\n",
       "    </tr>\n",
       "    <tr>\n",
       "      <th>2</th>\n",
       "      <td>COVID-3</td>\n",
       "      <td>PNG</td>\n",
       "      <td>256*256</td>\n",
       "      <td>https://sirm.org/category/senza-categoria/covi...</td>\n",
       "    </tr>\n",
       "    <tr>\n",
       "      <th>3</th>\n",
       "      <td>COVID-4</td>\n",
       "      <td>PNG</td>\n",
       "      <td>256*256</td>\n",
       "      <td>https://sirm.org/category/senza-categoria/covi...</td>\n",
       "    </tr>\n",
       "    <tr>\n",
       "      <th>4</th>\n",
       "      <td>COVID-5</td>\n",
       "      <td>PNG</td>\n",
       "      <td>256*256</td>\n",
       "      <td>https://sirm.org/category/senza-categoria/covi...</td>\n",
       "    </tr>\n",
       "  </tbody>\n",
       "</table>\n",
       "</div>"
      ],
      "text/plain": [
       "  FILE NAME FORMAT     SIZE                                                URL\n",
       "0   COVID-1    PNG  256*256  https://sirm.org/category/senza-categoria/covi...\n",
       "1   COVID-2    PNG  256*256  https://sirm.org/category/senza-categoria/covi...\n",
       "2   COVID-3    PNG  256*256  https://sirm.org/category/senza-categoria/covi...\n",
       "3   COVID-4    PNG  256*256  https://sirm.org/category/senza-categoria/covi...\n",
       "4   COVID-5    PNG  256*256  https://sirm.org/category/senza-categoria/covi..."
      ]
     },
     "execution_count": 4,
     "metadata": {},
     "output_type": "execute_result"
    }
   ],
   "source": [
    "#Metadata and Image paths for all Covid samples from the dataset\n",
    "COVID_FILE_PATH = \"COVID-19_Radiography_Dataset/COVID.metadata.csv\"\n",
    "COVID_IMAGES_PATH = \"COVID-19_Radiography_Dataset/COVID\"\n",
    "covid_df = pd.read_csv(COVID_FILE_PATH) #Read csv file containing metadata for all Covid images\n",
    "print(covid_df.shape)\n",
    "covid_df.head()"
   ]
  },
  {
   "cell_type": "code",
   "execution_count": 5,
   "metadata": {},
   "outputs": [
    {
     "name": "stdout",
     "output_type": "stream",
     "text": [
      "(1345, 4)\n"
     ]
    },
    {
     "data": {
      "text/html": [
       "<div>\n",
       "<style scoped>\n",
       "    .dataframe tbody tr th:only-of-type {\n",
       "        vertical-align: middle;\n",
       "    }\n",
       "\n",
       "    .dataframe tbody tr th {\n",
       "        vertical-align: top;\n",
       "    }\n",
       "\n",
       "    .dataframe thead th {\n",
       "        text-align: right;\n",
       "    }\n",
       "</style>\n",
       "<table border=\"1\" class=\"dataframe\">\n",
       "  <thead>\n",
       "    <tr style=\"text-align: right;\">\n",
       "      <th></th>\n",
       "      <th>FILE NAME</th>\n",
       "      <th>FORMAT</th>\n",
       "      <th>SIZE</th>\n",
       "      <th>URL</th>\n",
       "    </tr>\n",
       "  </thead>\n",
       "  <tbody>\n",
       "    <tr>\n",
       "      <th>0</th>\n",
       "      <td>Viral Pneumonia-1</td>\n",
       "      <td>PNG</td>\n",
       "      <td>256*256</td>\n",
       "      <td>https://www.kaggle.com/paultimothymooney/chest...</td>\n",
       "    </tr>\n",
       "    <tr>\n",
       "      <th>1</th>\n",
       "      <td>Viral Pneumonia-2</td>\n",
       "      <td>PNG</td>\n",
       "      <td>256*256</td>\n",
       "      <td>https://www.kaggle.com/paultimothymooney/chest...</td>\n",
       "    </tr>\n",
       "    <tr>\n",
       "      <th>2</th>\n",
       "      <td>Viral Pneumonia-3</td>\n",
       "      <td>PNG</td>\n",
       "      <td>256*256</td>\n",
       "      <td>https://www.kaggle.com/paultimothymooney/chest...</td>\n",
       "    </tr>\n",
       "    <tr>\n",
       "      <th>3</th>\n",
       "      <td>Viral Pneumonia-4</td>\n",
       "      <td>PNG</td>\n",
       "      <td>256*256</td>\n",
       "      <td>https://www.kaggle.com/paultimothymooney/chest...</td>\n",
       "    </tr>\n",
       "    <tr>\n",
       "      <th>4</th>\n",
       "      <td>Viral Pneumonia-5</td>\n",
       "      <td>PNG</td>\n",
       "      <td>256*256</td>\n",
       "      <td>https://www.kaggle.com/paultimothymooney/chest...</td>\n",
       "    </tr>\n",
       "  </tbody>\n",
       "</table>\n",
       "</div>"
      ],
      "text/plain": [
       "           FILE NAME FORMAT     SIZE  \\\n",
       "0  Viral Pneumonia-1    PNG  256*256   \n",
       "1  Viral Pneumonia-2    PNG  256*256   \n",
       "2  Viral Pneumonia-3    PNG  256*256   \n",
       "3  Viral Pneumonia-4    PNG  256*256   \n",
       "4  Viral Pneumonia-5    PNG  256*256   \n",
       "\n",
       "                                                 URL  \n",
       "0  https://www.kaggle.com/paultimothymooney/chest...  \n",
       "1  https://www.kaggle.com/paultimothymooney/chest...  \n",
       "2  https://www.kaggle.com/paultimothymooney/chest...  \n",
       "3  https://www.kaggle.com/paultimothymooney/chest...  \n",
       "4  https://www.kaggle.com/paultimothymooney/chest...  "
      ]
     },
     "execution_count": 5,
     "metadata": {},
     "output_type": "execute_result"
    }
   ],
   "source": [
    "#Metadata and Image paths for all Pneumonia samples from the dataset\n",
    "\n",
    "VIRAL_PNEUMONIA_FILE_PATH = \"COVID-19_Radiography_Dataset/Viral Pneumonia.metadata.csv\"\n",
    "VIRAL_PNEUMONIA_IMAGES_PATH = \"COVID-19_Radiography_Dataset/Viral Pneumonia\"\n",
    "viral_pneumonia_df = pd.read_csv(VIRAL_PNEUMONIA_FILE_PATH) #Read csv file containing metadata for all Covid images\n",
    "print(viral_pneumonia_df.shape)\n",
    "viral_pneumonia_df.head()"
   ]
  },
  {
   "cell_type": "code",
   "execution_count": 6,
   "metadata": {},
   "outputs": [
    {
     "name": "stdout",
     "output_type": "stream",
     "text": [
      "(10192, 4)\n"
     ]
    },
    {
     "data": {
      "text/html": [
       "<div>\n",
       "<style scoped>\n",
       "    .dataframe tbody tr th:only-of-type {\n",
       "        vertical-align: middle;\n",
       "    }\n",
       "\n",
       "    .dataframe tbody tr th {\n",
       "        vertical-align: top;\n",
       "    }\n",
       "\n",
       "    .dataframe thead th {\n",
       "        text-align: right;\n",
       "    }\n",
       "</style>\n",
       "<table border=\"1\" class=\"dataframe\">\n",
       "  <thead>\n",
       "    <tr style=\"text-align: right;\">\n",
       "      <th></th>\n",
       "      <th>FILE NAME</th>\n",
       "      <th>FORMAT</th>\n",
       "      <th>SIZE</th>\n",
       "      <th>URL</th>\n",
       "    </tr>\n",
       "  </thead>\n",
       "  <tbody>\n",
       "    <tr>\n",
       "      <th>0</th>\n",
       "      <td>NORMAL-1</td>\n",
       "      <td>PNG</td>\n",
       "      <td>256*256</td>\n",
       "      <td>https://www.kaggle.com/c/rsna-pneumonia-detect...</td>\n",
       "    </tr>\n",
       "    <tr>\n",
       "      <th>1</th>\n",
       "      <td>NORMAL-2</td>\n",
       "      <td>PNG</td>\n",
       "      <td>256*256</td>\n",
       "      <td>https://www.kaggle.com/c/rsna-pneumonia-detect...</td>\n",
       "    </tr>\n",
       "    <tr>\n",
       "      <th>2</th>\n",
       "      <td>NORMAL-3</td>\n",
       "      <td>PNG</td>\n",
       "      <td>256*256</td>\n",
       "      <td>https://www.kaggle.com/c/rsna-pneumonia-detect...</td>\n",
       "    </tr>\n",
       "    <tr>\n",
       "      <th>3</th>\n",
       "      <td>NORMAL-4</td>\n",
       "      <td>PNG</td>\n",
       "      <td>256*256</td>\n",
       "      <td>https://www.kaggle.com/c/rsna-pneumonia-detect...</td>\n",
       "    </tr>\n",
       "    <tr>\n",
       "      <th>4</th>\n",
       "      <td>NORMAL-5</td>\n",
       "      <td>PNG</td>\n",
       "      <td>256*256</td>\n",
       "      <td>https://www.kaggle.com/c/rsna-pneumonia-detect...</td>\n",
       "    </tr>\n",
       "  </tbody>\n",
       "</table>\n",
       "</div>"
      ],
      "text/plain": [
       "  FILE NAME FORMAT     SIZE                                                URL\n",
       "0  NORMAL-1    PNG  256*256  https://www.kaggle.com/c/rsna-pneumonia-detect...\n",
       "1  NORMAL-2    PNG  256*256  https://www.kaggle.com/c/rsna-pneumonia-detect...\n",
       "2  NORMAL-3    PNG  256*256  https://www.kaggle.com/c/rsna-pneumonia-detect...\n",
       "3  NORMAL-4    PNG  256*256  https://www.kaggle.com/c/rsna-pneumonia-detect...\n",
       "4  NORMAL-5    PNG  256*256  https://www.kaggle.com/c/rsna-pneumonia-detect..."
      ]
     },
     "execution_count": 6,
     "metadata": {},
     "output_type": "execute_result"
    }
   ],
   "source": [
    "#Metadata and Image paths for all Normal samples from the dataset\n",
    "\n",
    "NORMAL_FILE_PATH = \"COVID-19_Radiography_Dataset/Normal.metadata.csv\"\n",
    "NORMAL_IMAGES_PATH = \"COVID-19_Radiography_Dataset/Normal\"\n",
    "normal_df = pd.read_csv(NORMAL_FILE_PATH) #Read csv file containing metadata for all Covid images\n",
    "print(normal_df.shape)\n",
    "normal_df.head()\n"
   ]
  },
  {
   "cell_type": "code",
   "execution_count": 7,
   "metadata": {},
   "outputs": [
    {
     "name": "stdout",
     "output_type": "stream",
     "text": [
      "(6012, 4)\n"
     ]
    },
    {
     "data": {
      "text/html": [
       "<div>\n",
       "<style scoped>\n",
       "    .dataframe tbody tr th:only-of-type {\n",
       "        vertical-align: middle;\n",
       "    }\n",
       "\n",
       "    .dataframe tbody tr th {\n",
       "        vertical-align: top;\n",
       "    }\n",
       "\n",
       "    .dataframe thead th {\n",
       "        text-align: right;\n",
       "    }\n",
       "</style>\n",
       "<table border=\"1\" class=\"dataframe\">\n",
       "  <thead>\n",
       "    <tr style=\"text-align: right;\">\n",
       "      <th></th>\n",
       "      <th>FILE NAME</th>\n",
       "      <th>FORMAT</th>\n",
       "      <th>SIZE</th>\n",
       "      <th>URL</th>\n",
       "    </tr>\n",
       "  </thead>\n",
       "  <tbody>\n",
       "    <tr>\n",
       "      <th>0</th>\n",
       "      <td>Lung_Opacity-1</td>\n",
       "      <td>PNG</td>\n",
       "      <td>256*256</td>\n",
       "      <td>https://www.kaggle.com/c/rsna-pneumonia-detect...</td>\n",
       "    </tr>\n",
       "    <tr>\n",
       "      <th>1</th>\n",
       "      <td>Lung_Opacity-2</td>\n",
       "      <td>PNG</td>\n",
       "      <td>256*256</td>\n",
       "      <td>https://www.kaggle.com/c/rsna-pneumonia-detect...</td>\n",
       "    </tr>\n",
       "    <tr>\n",
       "      <th>2</th>\n",
       "      <td>Lung_Opacity-3</td>\n",
       "      <td>PNG</td>\n",
       "      <td>256*256</td>\n",
       "      <td>https://www.kaggle.com/c/rsna-pneumonia-detect...</td>\n",
       "    </tr>\n",
       "    <tr>\n",
       "      <th>3</th>\n",
       "      <td>Lung_Opacity-4</td>\n",
       "      <td>PNG</td>\n",
       "      <td>256*256</td>\n",
       "      <td>https://www.kaggle.com/c/rsna-pneumonia-detect...</td>\n",
       "    </tr>\n",
       "    <tr>\n",
       "      <th>4</th>\n",
       "      <td>Lung_Opacity-5</td>\n",
       "      <td>PNG</td>\n",
       "      <td>256*256</td>\n",
       "      <td>https://www.kaggle.com/c/rsna-pneumonia-detect...</td>\n",
       "    </tr>\n",
       "  </tbody>\n",
       "</table>\n",
       "</div>"
      ],
      "text/plain": [
       "        FILE NAME FORMAT     SIZE  \\\n",
       "0  Lung_Opacity-1    PNG  256*256   \n",
       "1  Lung_Opacity-2    PNG  256*256   \n",
       "2  Lung_Opacity-3    PNG  256*256   \n",
       "3  Lung_Opacity-4    PNG  256*256   \n",
       "4  Lung_Opacity-5    PNG  256*256   \n",
       "\n",
       "                                                 URL  \n",
       "0  https://www.kaggle.com/c/rsna-pneumonia-detect...  \n",
       "1  https://www.kaggle.com/c/rsna-pneumonia-detect...  \n",
       "2  https://www.kaggle.com/c/rsna-pneumonia-detect...  \n",
       "3  https://www.kaggle.com/c/rsna-pneumonia-detect...  \n",
       "4  https://www.kaggle.com/c/rsna-pneumonia-detect...  "
      ]
     },
     "execution_count": 7,
     "metadata": {},
     "output_type": "execute_result"
    }
   ],
   "source": [
    "#Metadata and Image paths for all Non-COVID Lung Infection samples from the dataset\n",
    "\n",
    "LUNG_OPACITY_FILE_PATH = \"COVID-19_Radiography_Dataset/Lung_Opacity.metadata.csv\"\n",
    "LUNG_OPACITY_IMAGES_PATH = \"COVID-19_Radiography_Dataset/Lung_Opacity\"\n",
    "lung_opacity_df = pd.read_csv(LUNG_OPACITY_FILE_PATH) #Read csv file containing metadata for all Lung Opacity images\n",
    "print(lung_opacity_df.shape)\n",
    "lung_opacity_df.head()"
   ]
  },
  {
   "cell_type": "code",
   "execution_count": 9,
   "metadata": {},
   "outputs": [
    {
     "name": "stdout",
     "output_type": "stream",
     "text": [
      "Created Binary Classification Dataset folder\n",
      "Created COVID Training Data folder\n",
      "Created Non-COVID Training Data folder\n",
      "Created COVID Validation Data folder\n",
      "Created Non-COVID Validation Data folder\n",
      "Created COVID Test Data folder\n",
      "Created Non-COVID Test Data folder\n",
      "Created COVID WebApp Prediction Data folder\n",
      "Created Non-COVID WebApp Prediction Data folder\n"
     ]
    }
   ],
   "source": [
    "#Creating the directories and folders \n",
    "#for training, validation,testing and webapp predictions datasets\n",
    "Target_Dir = 'BinaryClassificationDataset'\n",
    "Covid_Train_Dir = 'BinaryClassificationDataset/Train/COVID'\n",
    "NonCovid_Train_Dir = 'BinaryClassificationDataset/Train/Non-COVID'\n",
    "\n",
    "Covid_Val_Dir = 'BinaryClassificationDataset/Validation/COVID'\n",
    "NonCovid_Val_Dir = 'BinaryClassificationDataset/Validation/Non-COVID'\n",
    "\n",
    "Covid_Test_Dir = 'BinaryClassificationDataset/Test/COVID'\n",
    "NonCovid_Test_Dir = 'BinaryClassificationDataset/Test/Non-COVID'\n",
    "\n",
    "Covid_WebPred_Dir = 'BinaryClassificationDataset/WebAppPrediction/COVID'\n",
    "NonCovid_WebPred_Dir = 'BinaryClassificationDataset/WebAppPrediction/Non-COVID'\n",
    "\n",
    "if not os.path.exists(Target_Dir):\n",
    "    os.makedirs(Target_Dir)\n",
    "    print(\"Created Binary Classification Dataset folder\")\n",
    "    \n",
    "    os.makedirs(Covid_Train_Dir)\n",
    "    print(\"Created COVID Training Data folder\")\n",
    "    os.makedirs(NonCovid_Train_Dir)\n",
    "    print(\"Created Non-COVID Training Data folder\")\n",
    "    \n",
    "    os.makedirs(Covid_Val_Dir)\n",
    "    print(\"Created COVID Validation Data folder\")\n",
    "    os.makedirs(NonCovid_Val_Dir)\n",
    "    print(\"Created Non-COVID Validation Data folder\")\n",
    "    \n",
    "    os.makedirs(Covid_Test_Dir)\n",
    "    print(\"Created COVID Test Data folder\")\n",
    "    os.makedirs(NonCovid_Test_Dir)\n",
    "    print(\"Created Non-COVID Test Data folder\")\n",
    "    \n",
    "    os.makedirs(Covid_WebPred_Dir)\n",
    "    print(\"Created COVID WebApp Prediction Data folder\")\n",
    "    os.makedirs(NonCovid_WebPred_Dir)\n",
    "    print(\"Created Non-COVID WebApp Prediction Data folder\")"
   ]
  },
  {
   "cell_type": "code",
   "execution_count": 10,
   "metadata": {},
   "outputs": [],
   "source": [
    "#Save all the image file names into arrays \n",
    "#Save all the image file names into arrays \n",
    "Covid_image_names = os.listdir(COVID_IMAGES_PATH)\n",
    "Viral_Pneumonia_image_names = os.listdir(VIRAL_PNEUMONIA_IMAGES_PATH)\n",
    "Normal_image_names = os.listdir(NORMAL_IMAGES_PATH)\n",
    "Lung_Opacity_image_names = os.listdir(LUNG_OPACITY_IMAGES_PATH)\n"
   ]
  },
  {
   "cell_type": "code",
   "execution_count": 11,
   "metadata": {},
   "outputs": [
    {
     "name": "stdout",
     "output_type": "stream",
     "text": [
      "Total number of COVID-19 images:  3616\n",
      "Total number of Viral Pneumonia images:  1345\n",
      "Total number of Normal images:  10192\n",
      "Total number of Non-COVID Lung Infection images:  6012\n"
     ]
    }
   ],
   "source": [
    "print(\"Total number of COVID-19 images: \" , len(Covid_image_names))\n",
    "print(\"Total number of Viral Pneumonia images: \" , len(Viral_Pneumonia_image_names))\n",
    "print(\"Total number of Normal images: \" , len(Normal_image_names))\n",
    "print(\"Total number of Non-COVID Lung Infection images: \" , len(Lung_Opacity_image_names))"
   ]
  },
  {
   "cell_type": "code",
   "execution_count": 12,
   "metadata": {},
   "outputs": [
    {
     "name": "stdout",
     "output_type": "stream",
     "text": [
      "No. of COVID-19 images to be used for training:  2892\n",
      "No. of COVID-19 images to be used for validation:  362\n",
      "No. of COVID-19 images to be used for testing:  325\n",
      "Remaining COVID-19 images that can be used for web application predictions:  37\n"
     ]
    }
   ],
   "source": [
    "#Splitting up all the COVID-19 images into Training, Validation, Model Testing and Web App Prediction arrays\n",
    "Covid_image_names.sort() # to make sure that the filenames have a fixed order before shuffling\n",
    "#To make sure to have the same split each time this code is run, \n",
    "#we need to fix the random seed before shuffling the filenames\n",
    "random.seed(70) \n",
    "random.shuffle(Covid_image_names) # shuffles the ordering of image names\n",
    "\n",
    "split_1 = int(0.8 * len(Covid_image_names))\n",
    "split_2 = int(0.9 * len(Covid_image_names))\n",
    "split_3 = int(0.99 * len(Covid_image_names))\n",
    "Covid_train_img_names = Covid_image_names[:split_1]\n",
    "Covid_val_img_names = Covid_image_names[split_1:split_2]\n",
    "Covid_test_img_names = Covid_image_names[split_2:split_3]\n",
    "Covid_webpred_img_names = Covid_image_names[split_3:]\n",
    "\n",
    "print(\"No. of COVID-19 images to be used for training: \",len(Covid_train_img_names))\n",
    "print(\"No. of COVID-19 images to be used for validation: \",len(Covid_val_img_names))\n",
    "print(\"No. of COVID-19 images to be used for testing: \",len(Covid_test_img_names))\n",
    "print(\"Remaining COVID-19 images that can be used for web application predictions: \",len(Covid_webpred_img_names))"
   ]
  },
  {
   "cell_type": "code",
   "execution_count": 13,
   "metadata": {
    "scrolled": true
   },
   "outputs": [
    {
     "name": "stdout",
     "output_type": "stream",
     "text": [
      "Copied  2892  images from COVID-19 dataset path to the COVID-19 Training directory\n",
      "Copied  362  images from COVID-19 dataset path to the COVID-19 Validation directory\n",
      "Copied  325  images from COVID-19 dataset path to the COVID-19 Test directory\n",
      "Copied the remaining  37  images from COVID-19 dataset path to the COVID-19 WebApp Predictions directory\n"
     ]
    }
   ],
   "source": [
    "#Copying the images from the COVID-19 directory to their respective Training, Testing, Validation and WebApp Prediction Datasets\n",
    "for i in range(len(Covid_train_img_names)):\n",
    "    img_element = Covid_train_img_names[i]\n",
    "    Covid_image_path = os.path.join(COVID_IMAGES_PATH,img_element)\n",
    "    Covid_train_img_path = os.path.join(Covid_Train_Dir,img_element)\n",
    "    shutil.copy2(Covid_image_path,Covid_train_img_path)\n",
    "print(\"Copied \",i+1,\" images from COVID-19 dataset path to the COVID-19 Training directory\")\n",
    "\n",
    "\n",
    "for i in range(len(Covid_val_img_names)):\n",
    "    img_element = Covid_val_img_names[i]\n",
    "    Covid_image_path = os.path.join(COVID_IMAGES_PATH,img_element)\n",
    "    Covid_val_img_path = os.path.join(Covid_Val_Dir,img_element)\n",
    "    shutil.copy2(Covid_image_path,Covid_val_img_path)\n",
    "print(\"Copied \",i+1,\" images from COVID-19 dataset path to the COVID-19 Validation directory\")\n",
    "\n",
    "\n",
    "for i in range(len(Covid_test_img_names)):\n",
    "    img_element = Covid_test_img_names[i]\n",
    "    Covid_image_path = os.path.join(COVID_IMAGES_PATH,img_element)\n",
    "    Covid_test_img_path = os.path.join(Covid_Test_Dir,img_element)\n",
    "    shutil.copy2(Covid_image_path,Covid_test_img_path)\n",
    "print(\"Copied \",i+1,\" images from COVID-19 dataset path to the COVID-19 Test directory\")\n",
    "\n",
    "for i in range(len(Covid_webpred_img_names)):\n",
    "    img_element = Covid_webpred_img_names[i]\n",
    "    Covid_image_path = os.path.join(COVID_IMAGES_PATH,img_element)\n",
    "    Covid_webpred_img_path = os.path.join(Covid_WebPred_Dir,img_element)\n",
    "    shutil.copy2(Covid_image_path,Covid_webpred_img_path)\n",
    "print(\"Copied the remaining \",i+1,\" images from COVID-19 dataset path to the COVID-19 WebApp Predictions directory\")"
   ]
  },
  {
   "cell_type": "code",
   "execution_count": 14,
   "metadata": {},
   "outputs": [
    {
     "name": "stdout",
     "output_type": "stream",
     "text": [
      "No. of Viral Pneumonia images to be sent to the Non-COVID Training Dataset: 1076\n",
      "No. of Viral Pneumonia images to be sent to the Non-COVID Validation Dataset: 134\n",
      "No. of Viral Pneumonia images to be sent to the Non-COVID Testing Dataset: 121\n",
      "Remaining Viral Pneumonia images to be sent to the Non-COVID Web App Prediction Dataset: 14\n"
     ]
    }
   ],
   "source": [
    "#Splitting up all the Viral Pneumonia images into Training, Validation, Model Testing and Web App Prediction arrays\n",
    "Viral_Pneumonia_image_names.sort()\n",
    "random.seed(50) \n",
    "random.shuffle(Viral_Pneumonia_image_names)\n",
    "split_1 = int(0.8 * (len(Viral_Pneumonia_image_names)))\n",
    "split_2 = int(0.9 * (len(Viral_Pneumonia_image_names)))\n",
    "split_3 = int(0.99 * (len(Viral_Pneumonia_image_names)))\n",
    "Viral_Pneumonia_train_img_names = Viral_Pneumonia_image_names[:split_1]\n",
    "Viral_Pneumonia_val_img_names = Viral_Pneumonia_image_names[split_1:split_2]\n",
    "Viral_Pneumonia_test_img_names = Viral_Pneumonia_image_names[split_2: split_3]\n",
    "Viral_Pneumonia_webpred_img_names = Viral_Pneumonia_image_names[split_3:]\n",
    "\n",
    "print(\"No. of Viral Pneumonia images to be sent to the Non-COVID Training Dataset:\",len(Viral_Pneumonia_train_img_names))\n",
    "print(\"No. of Viral Pneumonia images to be sent to the Non-COVID Validation Dataset:\",len(Viral_Pneumonia_val_img_names))\n",
    "print(\"No. of Viral Pneumonia images to be sent to the Non-COVID Testing Dataset:\",len(Viral_Pneumonia_test_img_names))\n",
    "print(\"Remaining Viral Pneumonia images to be sent to the Non-COVID Web App Prediction Dataset:\",len(Viral_Pneumonia_webpred_img_names))\n"
   ]
  },
  {
   "cell_type": "code",
   "execution_count": 15,
   "metadata": {},
   "outputs": [
    {
     "name": "stdout",
     "output_type": "stream",
     "text": [
      "Copied  1076  images from Viral Pneumonia dataset path to the Non-COVID Training directory\n",
      "Copied  134  images from Viral Pneumonia dataset path to the Non-COVID Validation directory\n",
      "Copied  121  images from Viral Pneumonia dataset path to the Non-COVID Test directory\n",
      "Copied the remaining  14  images from Viral Pneumonia dataset path to the Non-COVID WebApp Predictions directory\n"
     ]
    }
   ],
   "source": [
    "#Copying all the Viral Pneumonia images into the Non-COVID Training, Validation, Model Testing and Web App Prediction Datasets\n",
    "for i in range(len(Viral_Pneumonia_train_img_names)):\n",
    "    img_element = Viral_Pneumonia_train_img_names[i]\n",
    "    Viral_Pneumonia_image_path = os.path.join(VIRAL_PNEUMONIA_IMAGES_PATH,img_element)\n",
    "    NonCovid_train_img_path = os.path.join(NonCovid_Train_Dir,img_element)\n",
    "    shutil.copy2(Viral_Pneumonia_image_path,NonCovid_train_img_path)\n",
    "print(\"Copied \",i+1,\" images from Viral Pneumonia dataset path to the Non-COVID Training directory\")\n",
    "\n",
    "\n",
    "for i in range(len(Viral_Pneumonia_val_img_names)):\n",
    "    img_element = Viral_Pneumonia_val_img_names[i]\n",
    "    Viral_Pneumonia_image_path = os.path.join(VIRAL_PNEUMONIA_IMAGES_PATH,img_element)\n",
    "    NonCovid_val_img_path = os.path.join(NonCovid_Val_Dir,img_element)\n",
    "    shutil.copy2(Viral_Pneumonia_image_path,NonCovid_val_img_path)\n",
    "print(\"Copied \",i+1,\" images from Viral Pneumonia dataset path to the Non-COVID Validation directory\")\n",
    "\n",
    "\n",
    "for i in range(len(Viral_Pneumonia_test_img_names)):\n",
    "    img_element = Viral_Pneumonia_test_img_names[i]\n",
    "    Viral_Pneumonia_image_path = os.path.join(VIRAL_PNEUMONIA_IMAGES_PATH,img_element)\n",
    "    NonCovid_test_img_path = os.path.join(NonCovid_Test_Dir,img_element)\n",
    "    shutil.copy2(Viral_Pneumonia_image_path,NonCovid_test_img_path)\n",
    "print(\"Copied \",i+1,\" images from Viral Pneumonia dataset path to the Non-COVID Test directory\")\n",
    "\n",
    "for i in range(len(Viral_Pneumonia_webpred_img_names)):\n",
    "    img_element = Viral_Pneumonia_webpred_img_names[i]\n",
    "    Viral_Pneumonia_image_path = os.path.join(VIRAL_PNEUMONIA_IMAGES_PATH,img_element)\n",
    "    NonCovid_webpred_img_path = os.path.join(NonCovid_WebPred_Dir,img_element)\n",
    "    shutil.copy2(Viral_Pneumonia_image_path,NonCovid_webpred_img_path)\n",
    "print(\"Copied the remaining \",i+1,\" images from Viral Pneumonia dataset path to the Non-COVID WebApp Predictions directory\")"
   ]
  },
  {
   "cell_type": "code",
   "execution_count": 16,
   "metadata": {},
   "outputs": [
    {
     "name": "stdout",
     "output_type": "stream",
     "text": [
      "No. of Normal images to be sent to the Non-COVID Training Dataset: 8153\n",
      "No. of Normal images to be sent to the Non-COVID Validation Dataset: 1019\n",
      "No. of Normal images to be sent to the Non-COVID Testing Dataset: 918\n",
      "Remaining Normal images to be sent to the Non-COVID Web App Prediction Dataset: 102\n"
     ]
    }
   ],
   "source": [
    "#Sorting and then shuffling the Normal image names array\n",
    "#before combining it into the Non-Covid testing, training and validation datasets.\n",
    "#The remaining Normal X-Ray images are then sent to the WebApp Predictions dataset\n",
    "# so that they can used to test the predictions of different models using the Web Application.\n",
    "Normal_image_names.sort() \n",
    "random.seed(30) \n",
    "random.shuffle(Normal_image_names) # shuffles the ordering of image names\n",
    "\n",
    "split_1 = int(0.8 * len(Normal_image_names))\n",
    "split_2 = int(0.9 * len(Normal_image_names))\n",
    "split_3 = int(0.99 * (len(Normal_image_names)))\n",
    "Normal_train_img_names = Normal_image_names[:split_1]\n",
    "Normal_val_img_names = Normal_image_names[split_1:split_2]\n",
    "Normal_test_img_names = Normal_image_names[split_2:split_3]\n",
    "Normal_webpred_img_names = Normal_image_names[split_3:]\n",
    "\n",
    "print(\"No. of Normal images to be sent to the Non-COVID Training Dataset:\",len(Normal_train_img_names))\n",
    "print(\"No. of Normal images to be sent to the Non-COVID Validation Dataset:\",len(Normal_val_img_names))\n",
    "print(\"No. of Normal images to be sent to the Non-COVID Testing Dataset:\",len(Normal_test_img_names))\n",
    "print(\"Remaining Normal images to be sent to the Non-COVID Web App Prediction Dataset:\",len(Normal_webpred_img_names))"
   ]
  },
  {
   "cell_type": "code",
   "execution_count": 17,
   "metadata": {},
   "outputs": [
    {
     "name": "stdout",
     "output_type": "stream",
     "text": [
      "Copied  8153  images from Normal images dataset path to the Non-COVID Training directory\n",
      "Copied  1019  images from Normal images dataset path to the Non-COVID Validation directory\n",
      "Copied  918  images from Normal images dataset path to the Non-COVID Test directory\n",
      "Copied the remaining 102  images from Normal images dataset path to the Non-COVID WebApp Predictions directory\n"
     ]
    }
   ],
   "source": [
    "for i in range(len(Normal_train_img_names)):\n",
    "    img_element = Normal_train_img_names[i]\n",
    "    Normal_image_path = os.path.join(NORMAL_IMAGES_PATH,img_element)\n",
    "    NonCovid_train_img_path = os.path.join(NonCovid_Train_Dir,img_element)\n",
    "    shutil.copy2(Normal_image_path,NonCovid_train_img_path)\n",
    "print(\"Copied \",i+1,\" images from Normal images dataset path to the Non-COVID Training directory\")\n",
    "\n",
    "\n",
    "for i in range(len(Normal_val_img_names)):\n",
    "    img_element = Normal_val_img_names[i]\n",
    "    Normal_image_path = os.path.join(NORMAL_IMAGES_PATH,img_element)\n",
    "    NonCovid_val_img_path = os.path.join(NonCovid_Val_Dir,img_element)\n",
    "    shutil.copy2(Normal_image_path,NonCovid_val_img_path)\n",
    "print(\"Copied \",i+1,\" images from Normal images dataset path to the Non-COVID Validation directory\")\n",
    "\n",
    "\n",
    "for i in range(len(Normal_test_img_names)):\n",
    "    img_element = Normal_test_img_names[i]\n",
    "    Normal_image_path = os.path.join(NORMAL_IMAGES_PATH,img_element)\n",
    "    NonCovid_test_img_path = os.path.join(NonCovid_Test_Dir,img_element)\n",
    "    shutil.copy2(Normal_image_path,NonCovid_test_img_path)\n",
    "print(\"Copied \",i+1,\" images from Normal images dataset path to the Non-COVID Test directory\")\n",
    "\n",
    "for i in range(len(Normal_webpred_img_names)):\n",
    "    img_element = Normal_webpred_img_names[i]\n",
    "    Normal_image_path = os.path.join(NORMAL_IMAGES_PATH,img_element)\n",
    "    NonCovid_webpred_img_path = os.path.join(NonCovid_WebPred_Dir,img_element)\n",
    "    shutil.copy2(Normal_image_path,NonCovid_webpred_img_path)\n",
    "print(\"Copied the remaining\",i+1,\" images from Normal images dataset path to the Non-COVID WebApp Predictions directory\")"
   ]
  },
  {
   "cell_type": "code",
   "execution_count": 18,
   "metadata": {},
   "outputs": [
    {
     "name": "stdout",
     "output_type": "stream",
     "text": [
      "No. of Non-COVID Lung Infection images to be sent to the Non-COVID Training Dataset: 4809\n",
      "No. of Non-COVID Lung Infection images to be sent to the Non-COVID Validation Dataset: 601\n",
      "No. of Non-COVID Lung Infection images to be sent to the Non-COVID Testing Dataset: 541\n",
      "Remaining Non-COVID Lung Infection images to be sent to the Non-COVID Web App Prediction Dataset: 61\n"
     ]
    }
   ],
   "source": [
    "#Splitting up all the Non-COVID Lung Infection images into Training, Validation, Model Testing and Web App Prediction arrays\n",
    "Lung_Opacity_image_names.sort() \n",
    "random.seed(10) \n",
    "random.shuffle(Lung_Opacity_image_names) # shuffles the ordering of image names\n",
    "\n",
    "split_1 = int(0.8 * len(Lung_Opacity_image_names))\n",
    "split_2 = int(0.9 * len(Lung_Opacity_image_names))\n",
    "split_3 = int(0.99 * (len(Lung_Opacity_image_names)))\n",
    "Lung_Opacity_train_img_names = Lung_Opacity_image_names[:split_1]\n",
    "Lung_Opacity_val_img_names = Lung_Opacity_image_names[split_1:split_2]\n",
    "Lung_Opacity_test_img_names = Lung_Opacity_image_names[split_2:split_3]\n",
    "Lung_Opacity_webpred_img_names = Lung_Opacity_image_names[split_3:]\n",
    "\n",
    "print(\"No. of Non-COVID Lung Infection images to be sent to the Non-COVID Training Dataset:\",len(Lung_Opacity_train_img_names))\n",
    "print(\"No. of Non-COVID Lung Infection images to be sent to the Non-COVID Validation Dataset:\",len(Lung_Opacity_val_img_names))\n",
    "print(\"No. of Non-COVID Lung Infection images to be sent to the Non-COVID Testing Dataset:\",len(Lung_Opacity_test_img_names))\n",
    "print(\"Remaining Non-COVID Lung Infection images to be sent to the Non-COVID Web App Prediction Dataset:\",len(Lung_Opacity_webpred_img_names))"
   ]
  },
  {
   "cell_type": "code",
   "execution_count": 19,
   "metadata": {},
   "outputs": [
    {
     "name": "stdout",
     "output_type": "stream",
     "text": [
      "Copied  4809  images from Lung Infection images dataset path to the Non-COVID Training directory\n",
      "Copied  601  images from Lung Infection images dataset path to the Non-COVID Validation directory\n",
      "Copied  541  images from Lung Infection images dataset path to the Non-COVID Test directory\n",
      "Copied the remaining  61  images from Lung Infection dataset path to the Non-COVID WebApp Predictions directory\n"
     ]
    }
   ],
   "source": [
    "#Copying the images from the Lung Infection directory to their respective \n",
    "#Non-COVID Training, Testing, Validation and WebApp Prediction Datasets\n",
    "for i in range(len(Lung_Opacity_train_img_names)):\n",
    "    img_element = Lung_Opacity_train_img_names[i]\n",
    "    Lung_Opacity_image_path = os.path.join(LUNG_OPACITY_IMAGES_PATH,img_element)\n",
    "    NonCovid_train_img_path = os.path.join(NonCovid_Train_Dir,img_element)\n",
    "    shutil.copy2(Lung_Opacity_image_path,NonCovid_train_img_path)\n",
    "print(\"Copied \",i+1,\" images from Lung Infection images dataset path to the Non-COVID Training directory\")\n",
    "\n",
    "\n",
    "for i in range(len(Lung_Opacity_val_img_names)):\n",
    "    img_element = Lung_Opacity_val_img_names[i]\n",
    "    Lung_Opacity_image_path = os.path.join(LUNG_OPACITY_IMAGES_PATH,img_element)\n",
    "    NonCovid_val_img_path = os.path.join(NonCovid_Val_Dir,img_element)\n",
    "    shutil.copy2(Lung_Opacity_image_path,NonCovid_val_img_path)\n",
    "print(\"Copied \",i+1,\" images from Lung Infection images dataset path to the Non-COVID Validation directory\")\n",
    "\n",
    "\n",
    "for i in range(len(Lung_Opacity_test_img_names)):\n",
    "    img_element = Lung_Opacity_test_img_names[i]\n",
    "    Lung_Opacity_image_path = os.path.join(LUNG_OPACITY_IMAGES_PATH,img_element)\n",
    "    NonCovid_test_img_path = os.path.join(NonCovid_Test_Dir,img_element)\n",
    "    shutil.copy2(Lung_Opacity_image_path,NonCovid_test_img_path)\n",
    "print(\"Copied \",i+1,\" images from Lung Infection images dataset path to the Non-COVID Test directory\")\n",
    "\n",
    "for i in range(len(Lung_Opacity_webpred_img_names)):\n",
    "    img_element = Lung_Opacity_webpred_img_names[i]\n",
    "    Lung_Opacity_image_path = os.path.join(LUNG_OPACITY_IMAGES_PATH,img_element)\n",
    "    NonCovid_webpred_img_path = os.path.join(NonCovid_WebPred_Dir,img_element)\n",
    "    shutil.copy2(Lung_Opacity_image_path,NonCovid_webpred_img_path)\n",
    "print(\"Copied the remaining \",i+1,\" images from Lung Infection dataset path to the Non-COVID WebApp Predictions directory\")"
   ]
  },
  {
   "cell_type": "code",
   "execution_count": 20,
   "metadata": {},
   "outputs": [
    {
     "name": "stdout",
     "output_type": "stream",
     "text": [
      "Total number of Non-COVID images used for training:  14038\n",
      "Total number of Non-COVID images used for validation:  1754\n",
      "Total number of Non-COVID images used for testing:  1580\n",
      "Remaining Non-COVID images that can be used for web application predictions:  177\n"
     ]
    }
   ],
   "source": [
    "print(\"Total number of Non-COVID images used for training: \",len(os.listdir(NonCovid_Train_Dir)))\n",
    "print(\"Total number of Non-COVID images used for validation: \",len(os.listdir(NonCovid_Val_Dir)))\n",
    "print(\"Total number of Non-COVID images used for testing: \",len(os.listdir(NonCovid_Test_Dir)))\n",
    "print(\"Remaining Non-COVID images that can be used for web application predictions: \",len(os.listdir(NonCovid_WebPred_Dir)))"
   ]
  },
  {
   "cell_type": "markdown",
   "metadata": {},
   "source": [
    "Dataset for binary classification of COVID and Non-COVID Chest X-rays has been created"
   ]
  }
 ],
 "metadata": {
  "kernelspec": {
   "display_name": "Python 3",
   "language": "python",
   "name": "python3"
  },
  "language_info": {
   "codemirror_mode": {
    "name": "ipython",
    "version": 3
   },
   "file_extension": ".py",
   "mimetype": "text/x-python",
   "name": "python",
   "nbconvert_exporter": "python",
   "pygments_lexer": "ipython3",
   "version": "3.8.6"
  }
 },
 "nbformat": 4,
 "nbformat_minor": 4
}
