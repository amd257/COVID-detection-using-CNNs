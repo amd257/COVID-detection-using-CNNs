{
 "cells": [
  {
   "cell_type": "code",
   "execution_count": 71,
   "metadata": {},
   "outputs": [],
   "source": [
    "import pandas as pd\n",
    "import os\n",
    "import shutil"
   ]
  },
  {
   "cell_type": "code",
   "execution_count": 72,
   "metadata": {},
   "outputs": [],
   "source": [
    "#Metadata and Image paths for all Covid samples from the dataset\n",
    "\n",
    "COVID_FILE_PATH = \"COVID-19-Radiography-Database/COVID.metadata.csv\"\n",
    "COVID_IMAGES_PATH = \"COVID-19-Radiography-Database/COVID\""
   ]
  },
  {
   "cell_type": "code",
   "execution_count": 73,
   "metadata": {},
   "outputs": [
    {
     "name": "stdout",
     "output_type": "stream",
     "text": [
      "(1200, 4)\n"
     ]
    },
    {
     "data": {
      "text/html": [
       "<div>\n",
       "<style scoped>\n",
       "    .dataframe tbody tr th:only-of-type {\n",
       "        vertical-align: middle;\n",
       "    }\n",
       "\n",
       "    .dataframe tbody tr th {\n",
       "        vertical-align: top;\n",
       "    }\n",
       "\n",
       "    .dataframe thead th {\n",
       "        text-align: right;\n",
       "    }\n",
       "</style>\n",
       "<table border=\"1\" class=\"dataframe\">\n",
       "  <thead>\n",
       "    <tr style=\"text-align: right;\">\n",
       "      <th></th>\n",
       "      <th>FILE NAME</th>\n",
       "      <th>FORMAT</th>\n",
       "      <th>SIZE</th>\n",
       "      <th>URL</th>\n",
       "    </tr>\n",
       "  </thead>\n",
       "  <tbody>\n",
       "    <tr>\n",
       "      <th>0</th>\n",
       "      <td>COVID 1</td>\n",
       "      <td>PNG</td>\n",
       "      <td>256*256</td>\n",
       "      <td>https://sirm.org/category/senza-categoria/covi...</td>\n",
       "    </tr>\n",
       "    <tr>\n",
       "      <th>1</th>\n",
       "      <td>COVID 2</td>\n",
       "      <td>PNG</td>\n",
       "      <td>256*256</td>\n",
       "      <td>https://sirm.org/category/senza-categoria/covi...</td>\n",
       "    </tr>\n",
       "    <tr>\n",
       "      <th>2</th>\n",
       "      <td>COVID 3</td>\n",
       "      <td>PNG</td>\n",
       "      <td>256*256</td>\n",
       "      <td>https://sirm.org/category/senza-categoria/covi...</td>\n",
       "    </tr>\n",
       "    <tr>\n",
       "      <th>3</th>\n",
       "      <td>COVID 4</td>\n",
       "      <td>PNG</td>\n",
       "      <td>256*256</td>\n",
       "      <td>https://sirm.org/category/senza-categoria/covi...</td>\n",
       "    </tr>\n",
       "    <tr>\n",
       "      <th>4</th>\n",
       "      <td>COVID 5</td>\n",
       "      <td>PNG</td>\n",
       "      <td>256*256</td>\n",
       "      <td>https://sirm.org/category/senza-categoria/covi...</td>\n",
       "    </tr>\n",
       "  </tbody>\n",
       "</table>\n",
       "</div>"
      ],
      "text/plain": [
       "  FILE NAME FORMAT     SIZE                                                URL\n",
       "0   COVID 1    PNG  256*256  https://sirm.org/category/senza-categoria/covi...\n",
       "1   COVID 2    PNG  256*256  https://sirm.org/category/senza-categoria/covi...\n",
       "2   COVID 3    PNG  256*256  https://sirm.org/category/senza-categoria/covi...\n",
       "3   COVID 4    PNG  256*256  https://sirm.org/category/senza-categoria/covi...\n",
       "4   COVID 5    PNG  256*256  https://sirm.org/category/senza-categoria/covi..."
      ]
     },
     "execution_count": 73,
     "metadata": {},
     "output_type": "execute_result"
    }
   ],
   "source": [
    "covid_df = pd.read_csv(COVID_FILE_PATH) #Read csv file containing metadata for all Covid images\n",
    "print(covid_df.shape)\n",
    "covid_df.head()"
   ]
  },
  {
   "cell_type": "code",
   "execution_count": 74,
   "metadata": {},
   "outputs": [],
   "source": [
    "#Metadata and Image paths for all Pneumonia samples from the dataset\n",
    "\n",
    "VIRAL_PNEUMONIA_FILE_PATH = \"COVID-19-Radiography-Database/ViralPneumonia.metadata.csv\"\n",
    "VIRAL_PNEUMONIA_IMAGES_PATH = \"COVID-19-Radiography-Database/ViralPneumonia\""
   ]
  },
  {
   "cell_type": "code",
   "execution_count": 75,
   "metadata": {},
   "outputs": [
    {
     "name": "stdout",
     "output_type": "stream",
     "text": [
      "(1345, 4)\n"
     ]
    },
    {
     "data": {
      "text/html": [
       "<div>\n",
       "<style scoped>\n",
       "    .dataframe tbody tr th:only-of-type {\n",
       "        vertical-align: middle;\n",
       "    }\n",
       "\n",
       "    .dataframe tbody tr th {\n",
       "        vertical-align: top;\n",
       "    }\n",
       "\n",
       "    .dataframe thead th {\n",
       "        text-align: right;\n",
       "    }\n",
       "</style>\n",
       "<table border=\"1\" class=\"dataframe\">\n",
       "  <thead>\n",
       "    <tr style=\"text-align: right;\">\n",
       "      <th></th>\n",
       "      <th>FILE NAME</th>\n",
       "      <th>FORMAT</th>\n",
       "      <th>SIZE</th>\n",
       "      <th>URL</th>\n",
       "    </tr>\n",
       "  </thead>\n",
       "  <tbody>\n",
       "    <tr>\n",
       "      <th>0</th>\n",
       "      <td>Viral Pneumonia-1</td>\n",
       "      <td>PNG</td>\n",
       "      <td>1024*1024</td>\n",
       "      <td>https://www.kaggle.com/paultimothymooney/chest...</td>\n",
       "    </tr>\n",
       "    <tr>\n",
       "      <th>1</th>\n",
       "      <td>Viral Pneumonia-2</td>\n",
       "      <td>PNG</td>\n",
       "      <td>1024*1024</td>\n",
       "      <td>https://www.kaggle.com/paultimothymooney/chest...</td>\n",
       "    </tr>\n",
       "    <tr>\n",
       "      <th>2</th>\n",
       "      <td>Viral Pneumonia-3</td>\n",
       "      <td>PNG</td>\n",
       "      <td>1024*1024</td>\n",
       "      <td>https://www.kaggle.com/paultimothymooney/chest...</td>\n",
       "    </tr>\n",
       "    <tr>\n",
       "      <th>3</th>\n",
       "      <td>Viral Pneumonia-4</td>\n",
       "      <td>PNG</td>\n",
       "      <td>1024*1024</td>\n",
       "      <td>https://www.kaggle.com/paultimothymooney/chest...</td>\n",
       "    </tr>\n",
       "    <tr>\n",
       "      <th>4</th>\n",
       "      <td>Viral Pneumonia-5</td>\n",
       "      <td>PNG</td>\n",
       "      <td>1024*1024</td>\n",
       "      <td>https://www.kaggle.com/paultimothymooney/chest...</td>\n",
       "    </tr>\n",
       "  </tbody>\n",
       "</table>\n",
       "</div>"
      ],
      "text/plain": [
       "           FILE NAME FORMAT       SIZE  \\\n",
       "0  Viral Pneumonia-1    PNG  1024*1024   \n",
       "1  Viral Pneumonia-2    PNG  1024*1024   \n",
       "2  Viral Pneumonia-3    PNG  1024*1024   \n",
       "3  Viral Pneumonia-4    PNG  1024*1024   \n",
       "4  Viral Pneumonia-5    PNG  1024*1024   \n",
       "\n",
       "                                                 URL  \n",
       "0  https://www.kaggle.com/paultimothymooney/chest...  \n",
       "1  https://www.kaggle.com/paultimothymooney/chest...  \n",
       "2  https://www.kaggle.com/paultimothymooney/chest...  \n",
       "3  https://www.kaggle.com/paultimothymooney/chest...  \n",
       "4  https://www.kaggle.com/paultimothymooney/chest...  "
      ]
     },
     "execution_count": 75,
     "metadata": {},
     "output_type": "execute_result"
    }
   ],
   "source": [
    "viral_pneumonia_df = pd.read_csv(VIRAL_PNEUMONIA_FILE_PATH) #Read csv file containing metadata for all Covid images\n",
    "print(viral_pneumonia_df.shape)\n",
    "viral_pneumonia_df.head()"
   ]
  },
  {
   "cell_type": "code",
   "execution_count": 76,
   "metadata": {},
   "outputs": [],
   "source": [
    "#Metadata and Image paths for all Normal samples from the dataset\n",
    "\n",
    "NORMAL_FILE_PATH = \"COVID-19-Radiography-Database/NORMAL.metadata.csv\"\n",
    "NORMAL_IMAGES_PATH = \"COVID-19-Radiography-Database/NORMAL\""
   ]
  },
  {
   "cell_type": "code",
   "execution_count": 77,
   "metadata": {},
   "outputs": [
    {
     "name": "stdout",
     "output_type": "stream",
     "text": [
      "(1341, 4)\n"
     ]
    },
    {
     "data": {
      "text/html": [
       "<div>\n",
       "<style scoped>\n",
       "    .dataframe tbody tr th:only-of-type {\n",
       "        vertical-align: middle;\n",
       "    }\n",
       "\n",
       "    .dataframe tbody tr th {\n",
       "        vertical-align: top;\n",
       "    }\n",
       "\n",
       "    .dataframe thead th {\n",
       "        text-align: right;\n",
       "    }\n",
       "</style>\n",
       "<table border=\"1\" class=\"dataframe\">\n",
       "  <thead>\n",
       "    <tr style=\"text-align: right;\">\n",
       "      <th></th>\n",
       "      <th>FILE NAME</th>\n",
       "      <th>FORMAT</th>\n",
       "      <th>SIZE</th>\n",
       "      <th>URL</th>\n",
       "    </tr>\n",
       "  </thead>\n",
       "  <tbody>\n",
       "    <tr>\n",
       "      <th>0</th>\n",
       "      <td>NORMAL-1</td>\n",
       "      <td>PNG</td>\n",
       "      <td>1024*1024</td>\n",
       "      <td>https://www.kaggle.com/paultimothymooney/chest...</td>\n",
       "    </tr>\n",
       "    <tr>\n",
       "      <th>1</th>\n",
       "      <td>NORMAL-2</td>\n",
       "      <td>PNG</td>\n",
       "      <td>1024*1024</td>\n",
       "      <td>https://www.kaggle.com/paultimothymooney/chest...</td>\n",
       "    </tr>\n",
       "    <tr>\n",
       "      <th>2</th>\n",
       "      <td>NORMAL-3</td>\n",
       "      <td>PNG</td>\n",
       "      <td>1024*1024</td>\n",
       "      <td>https://www.kaggle.com/paultimothymooney/chest...</td>\n",
       "    </tr>\n",
       "    <tr>\n",
       "      <th>3</th>\n",
       "      <td>NORMAL-4</td>\n",
       "      <td>PNG</td>\n",
       "      <td>1024*1024</td>\n",
       "      <td>https://www.kaggle.com/paultimothymooney/chest...</td>\n",
       "    </tr>\n",
       "    <tr>\n",
       "      <th>4</th>\n",
       "      <td>NORMAL-5</td>\n",
       "      <td>PNG</td>\n",
       "      <td>1024*1024</td>\n",
       "      <td>https://www.kaggle.com/paultimothymooney/chest...</td>\n",
       "    </tr>\n",
       "  </tbody>\n",
       "</table>\n",
       "</div>"
      ],
      "text/plain": [
       "  FILE NAME FORMAT       SIZE  \\\n",
       "0  NORMAL-1    PNG  1024*1024   \n",
       "1  NORMAL-2    PNG  1024*1024   \n",
       "2  NORMAL-3    PNG  1024*1024   \n",
       "3  NORMAL-4    PNG  1024*1024   \n",
       "4  NORMAL-5    PNG  1024*1024   \n",
       "\n",
       "                                                 URL  \n",
       "0  https://www.kaggle.com/paultimothymooney/chest...  \n",
       "1  https://www.kaggle.com/paultimothymooney/chest...  \n",
       "2  https://www.kaggle.com/paultimothymooney/chest...  \n",
       "3  https://www.kaggle.com/paultimothymooney/chest...  \n",
       "4  https://www.kaggle.com/paultimothymooney/chest...  "
      ]
     },
     "execution_count": 77,
     "metadata": {},
     "output_type": "execute_result"
    }
   ],
   "source": [
    "normal_df = pd.read_csv(NORMAL_FILE_PATH) #Read csv file containing metadata for all Covid images\n",
    "print(normal_df.shape)\n",
    "normal_df.head()"
   ]
  },
  {
   "cell_type": "code",
   "execution_count": null,
   "metadata": {},
   "outputs": [],
   "source": [
    "#Organizing the data into training, validation and test datasets\n",
    "TARGET_DIR=\"Dataset\"\n",
    "\n",
    "if not os.path.exists(TARGET_DIR):\n",
    "    os.mkdir(TARGET_DIR)\n",
    "    print(\"Created folder for covid dataset\")"
   ]
  }
 ],
 "metadata": {
  "kernelspec": {
   "display_name": "Python 3",
   "language": "python",
   "name": "python3"
  },
  "language_info": {
   "codemirror_mode": {
    "name": "ipython",
    "version": 3
   },
   "file_extension": ".py",
   "mimetype": "text/x-python",
   "name": "python",
   "nbconvert_exporter": "python",
   "pygments_lexer": "ipython3",
   "version": "3.8.6"
  }
 },
 "nbformat": 4,
 "nbformat_minor": 4
}
