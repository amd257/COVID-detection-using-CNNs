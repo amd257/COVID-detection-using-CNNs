{
 "cells": [
  {
   "cell_type": "markdown",
   "metadata": {},
   "source": [
    "# Data Set Creation for the CNN Detection Model\n",
    "The COVID-19 Radiography Database is being used, it is available at: https://www.kaggle.com/tawsifurrahman/covid19-radiography-database\n",
    "\n",
    "This database consists of 1200 COVID-19, 1345 Viral Pneumonia and 1341 Normal X-Ray images.\n",
    "\n",
    "The database will be divided into training,validation, testing and webapp prediction datasets. The dataset split will be 80% of data for training, 10% for validation, 8% for testing the model and the remaining 2% data to be used for testing the webapp."
   ]
  },
  {
   "cell_type": "code",
   "execution_count": 2,
   "metadata": {},
   "outputs": [],
   "source": [
    "import pandas as pd\n",
    "import os\n",
    "import random\n",
    "import shutil"
   ]
  },
  {
   "cell_type": "code",
   "execution_count": 3,
   "metadata": {},
   "outputs": [],
   "source": [
    "#Metadata and Image paths for all Covid samples from the dataset\n",
    "\n",
    "COVID_FILE_PATH = \"COVID-19-Radiography-Database/COVID.metadata.csv\"\n",
    "COVID_IMAGES_PATH = \"COVID-19-Radiography-Database/COVID\""
   ]
  },
  {
   "cell_type": "code",
   "execution_count": 4,
   "metadata": {},
   "outputs": [
    {
     "name": "stdout",
     "output_type": "stream",
     "text": [
      "(1200, 4)\n"
     ]
    },
    {
     "data": {
      "text/html": [
       "<div>\n",
       "<style scoped>\n",
       "    .dataframe tbody tr th:only-of-type {\n",
       "        vertical-align: middle;\n",
       "    }\n",
       "\n",
       "    .dataframe tbody tr th {\n",
       "        vertical-align: top;\n",
       "    }\n",
       "\n",
       "    .dataframe thead th {\n",
       "        text-align: right;\n",
       "    }\n",
       "</style>\n",
       "<table border=\"1\" class=\"dataframe\">\n",
       "  <thead>\n",
       "    <tr style=\"text-align: right;\">\n",
       "      <th></th>\n",
       "      <th>FILE NAME</th>\n",
       "      <th>FORMAT</th>\n",
       "      <th>SIZE</th>\n",
       "      <th>URL</th>\n",
       "    </tr>\n",
       "  </thead>\n",
       "  <tbody>\n",
       "    <tr>\n",
       "      <th>0</th>\n",
       "      <td>COVID 1</td>\n",
       "      <td>PNG</td>\n",
       "      <td>256*256</td>\n",
       "      <td>https://sirm.org/category/senza-categoria/covi...</td>\n",
       "    </tr>\n",
       "    <tr>\n",
       "      <th>1</th>\n",
       "      <td>COVID 2</td>\n",
       "      <td>PNG</td>\n",
       "      <td>256*256</td>\n",
       "      <td>https://sirm.org/category/senza-categoria/covi...</td>\n",
       "    </tr>\n",
       "    <tr>\n",
       "      <th>2</th>\n",
       "      <td>COVID 3</td>\n",
       "      <td>PNG</td>\n",
       "      <td>256*256</td>\n",
       "      <td>https://sirm.org/category/senza-categoria/covi...</td>\n",
       "    </tr>\n",
       "    <tr>\n",
       "      <th>3</th>\n",
       "      <td>COVID 4</td>\n",
       "      <td>PNG</td>\n",
       "      <td>256*256</td>\n",
       "      <td>https://sirm.org/category/senza-categoria/covi...</td>\n",
       "    </tr>\n",
       "    <tr>\n",
       "      <th>4</th>\n",
       "      <td>COVID 5</td>\n",
       "      <td>PNG</td>\n",
       "      <td>256*256</td>\n",
       "      <td>https://sirm.org/category/senza-categoria/covi...</td>\n",
       "    </tr>\n",
       "  </tbody>\n",
       "</table>\n",
       "</div>"
      ],
      "text/plain": [
       "  FILE NAME FORMAT     SIZE                                                URL\n",
       "0   COVID 1    PNG  256*256  https://sirm.org/category/senza-categoria/covi...\n",
       "1   COVID 2    PNG  256*256  https://sirm.org/category/senza-categoria/covi...\n",
       "2   COVID 3    PNG  256*256  https://sirm.org/category/senza-categoria/covi...\n",
       "3   COVID 4    PNG  256*256  https://sirm.org/category/senza-categoria/covi...\n",
       "4   COVID 5    PNG  256*256  https://sirm.org/category/senza-categoria/covi..."
      ]
     },
     "execution_count": 4,
     "metadata": {},
     "output_type": "execute_result"
    }
   ],
   "source": [
    "covid_df = pd.read_csv(COVID_FILE_PATH) #Read csv file containing metadata for all Covid images\n",
    "print(covid_df.shape)\n",
    "covid_df.head()"
   ]
  },
  {
   "cell_type": "code",
   "execution_count": 5,
   "metadata": {},
   "outputs": [],
   "source": [
    "#Metadata and Image paths for all Pneumonia samples from the dataset\n",
    "\n",
    "VIRAL_PNEUMONIA_FILE_PATH = \"COVID-19-Radiography-Database/ViralPneumonia.metadata.csv\"\n",
    "VIRAL_PNEUMONIA_IMAGES_PATH = \"COVID-19-Radiography-Database/ViralPneumonia\""
   ]
  },
  {
   "cell_type": "code",
   "execution_count": 6,
   "metadata": {},
   "outputs": [
    {
     "name": "stdout",
     "output_type": "stream",
     "text": [
      "(1345, 4)\n"
     ]
    },
    {
     "data": {
      "text/html": [
       "<div>\n",
       "<style scoped>\n",
       "    .dataframe tbody tr th:only-of-type {\n",
       "        vertical-align: middle;\n",
       "    }\n",
       "\n",
       "    .dataframe tbody tr th {\n",
       "        vertical-align: top;\n",
       "    }\n",
       "\n",
       "    .dataframe thead th {\n",
       "        text-align: right;\n",
       "    }\n",
       "</style>\n",
       "<table border=\"1\" class=\"dataframe\">\n",
       "  <thead>\n",
       "    <tr style=\"text-align: right;\">\n",
       "      <th></th>\n",
       "      <th>FILE NAME</th>\n",
       "      <th>FORMAT</th>\n",
       "      <th>SIZE</th>\n",
       "      <th>URL</th>\n",
       "    </tr>\n",
       "  </thead>\n",
       "  <tbody>\n",
       "    <tr>\n",
       "      <th>0</th>\n",
       "      <td>Viral Pneumonia-1</td>\n",
       "      <td>PNG</td>\n",
       "      <td>1024*1024</td>\n",
       "      <td>https://www.kaggle.com/paultimothymooney/chest...</td>\n",
       "    </tr>\n",
       "    <tr>\n",
       "      <th>1</th>\n",
       "      <td>Viral Pneumonia-2</td>\n",
       "      <td>PNG</td>\n",
       "      <td>1024*1024</td>\n",
       "      <td>https://www.kaggle.com/paultimothymooney/chest...</td>\n",
       "    </tr>\n",
       "    <tr>\n",
       "      <th>2</th>\n",
       "      <td>Viral Pneumonia-3</td>\n",
       "      <td>PNG</td>\n",
       "      <td>1024*1024</td>\n",
       "      <td>https://www.kaggle.com/paultimothymooney/chest...</td>\n",
       "    </tr>\n",
       "    <tr>\n",
       "      <th>3</th>\n",
       "      <td>Viral Pneumonia-4</td>\n",
       "      <td>PNG</td>\n",
       "      <td>1024*1024</td>\n",
       "      <td>https://www.kaggle.com/paultimothymooney/chest...</td>\n",
       "    </tr>\n",
       "    <tr>\n",
       "      <th>4</th>\n",
       "      <td>Viral Pneumonia-5</td>\n",
       "      <td>PNG</td>\n",
       "      <td>1024*1024</td>\n",
       "      <td>https://www.kaggle.com/paultimothymooney/chest...</td>\n",
       "    </tr>\n",
       "  </tbody>\n",
       "</table>\n",
       "</div>"
      ],
      "text/plain": [
       "           FILE NAME FORMAT       SIZE  \\\n",
       "0  Viral Pneumonia-1    PNG  1024*1024   \n",
       "1  Viral Pneumonia-2    PNG  1024*1024   \n",
       "2  Viral Pneumonia-3    PNG  1024*1024   \n",
       "3  Viral Pneumonia-4    PNG  1024*1024   \n",
       "4  Viral Pneumonia-5    PNG  1024*1024   \n",
       "\n",
       "                                                 URL  \n",
       "0  https://www.kaggle.com/paultimothymooney/chest...  \n",
       "1  https://www.kaggle.com/paultimothymooney/chest...  \n",
       "2  https://www.kaggle.com/paultimothymooney/chest...  \n",
       "3  https://www.kaggle.com/paultimothymooney/chest...  \n",
       "4  https://www.kaggle.com/paultimothymooney/chest...  "
      ]
     },
     "execution_count": 6,
     "metadata": {},
     "output_type": "execute_result"
    }
   ],
   "source": [
    "viral_pneumonia_df = pd.read_csv(VIRAL_PNEUMONIA_FILE_PATH) #Read csv file containing metadata for all Covid images\n",
    "print(viral_pneumonia_df.shape)\n",
    "viral_pneumonia_df.head()"
   ]
  },
  {
   "cell_type": "code",
   "execution_count": 7,
   "metadata": {},
   "outputs": [],
   "source": [
    "#Metadata and Image paths for all Normal samples from the dataset\n",
    "\n",
    "NORMAL_FILE_PATH = \"COVID-19-Radiography-Database/NORMAL.metadata.csv\"\n",
    "NORMAL_IMAGES_PATH = \"COVID-19-Radiography-Database/NORMAL\""
   ]
  },
  {
   "cell_type": "code",
   "execution_count": 8,
   "metadata": {},
   "outputs": [
    {
     "name": "stdout",
     "output_type": "stream",
     "text": [
      "(1341, 4)\n"
     ]
    },
    {
     "data": {
      "text/html": [
       "<div>\n",
       "<style scoped>\n",
       "    .dataframe tbody tr th:only-of-type {\n",
       "        vertical-align: middle;\n",
       "    }\n",
       "\n",
       "    .dataframe tbody tr th {\n",
       "        vertical-align: top;\n",
       "    }\n",
       "\n",
       "    .dataframe thead th {\n",
       "        text-align: right;\n",
       "    }\n",
       "</style>\n",
       "<table border=\"1\" class=\"dataframe\">\n",
       "  <thead>\n",
       "    <tr style=\"text-align: right;\">\n",
       "      <th></th>\n",
       "      <th>FILE NAME</th>\n",
       "      <th>FORMAT</th>\n",
       "      <th>SIZE</th>\n",
       "      <th>URL</th>\n",
       "    </tr>\n",
       "  </thead>\n",
       "  <tbody>\n",
       "    <tr>\n",
       "      <th>0</th>\n",
       "      <td>NORMAL-1</td>\n",
       "      <td>PNG</td>\n",
       "      <td>1024*1024</td>\n",
       "      <td>https://www.kaggle.com/paultimothymooney/chest...</td>\n",
       "    </tr>\n",
       "    <tr>\n",
       "      <th>1</th>\n",
       "      <td>NORMAL-2</td>\n",
       "      <td>PNG</td>\n",
       "      <td>1024*1024</td>\n",
       "      <td>https://www.kaggle.com/paultimothymooney/chest...</td>\n",
       "    </tr>\n",
       "    <tr>\n",
       "      <th>2</th>\n",
       "      <td>NORMAL-3</td>\n",
       "      <td>PNG</td>\n",
       "      <td>1024*1024</td>\n",
       "      <td>https://www.kaggle.com/paultimothymooney/chest...</td>\n",
       "    </tr>\n",
       "    <tr>\n",
       "      <th>3</th>\n",
       "      <td>NORMAL-4</td>\n",
       "      <td>PNG</td>\n",
       "      <td>1024*1024</td>\n",
       "      <td>https://www.kaggle.com/paultimothymooney/chest...</td>\n",
       "    </tr>\n",
       "    <tr>\n",
       "      <th>4</th>\n",
       "      <td>NORMAL-5</td>\n",
       "      <td>PNG</td>\n",
       "      <td>1024*1024</td>\n",
       "      <td>https://www.kaggle.com/paultimothymooney/chest...</td>\n",
       "    </tr>\n",
       "  </tbody>\n",
       "</table>\n",
       "</div>"
      ],
      "text/plain": [
       "  FILE NAME FORMAT       SIZE  \\\n",
       "0  NORMAL-1    PNG  1024*1024   \n",
       "1  NORMAL-2    PNG  1024*1024   \n",
       "2  NORMAL-3    PNG  1024*1024   \n",
       "3  NORMAL-4    PNG  1024*1024   \n",
       "4  NORMAL-5    PNG  1024*1024   \n",
       "\n",
       "                                                 URL  \n",
       "0  https://www.kaggle.com/paultimothymooney/chest...  \n",
       "1  https://www.kaggle.com/paultimothymooney/chest...  \n",
       "2  https://www.kaggle.com/paultimothymooney/chest...  \n",
       "3  https://www.kaggle.com/paultimothymooney/chest...  \n",
       "4  https://www.kaggle.com/paultimothymooney/chest...  "
      ]
     },
     "execution_count": 8,
     "metadata": {},
     "output_type": "execute_result"
    }
   ],
   "source": [
    "normal_df = pd.read_csv(NORMAL_FILE_PATH) #Read csv file containing metadata for all Covid images\n",
    "print(normal_df.shape)\n",
    "normal_df.head()"
   ]
  },
  {
   "cell_type": "code",
   "execution_count": 19,
   "metadata": {},
   "outputs": [
    {
     "name": "stdout",
     "output_type": "stream",
     "text": [
      "Created ThreeLabel Dataset folder\n",
      "Created COVID Training Data folder\n",
      "Created Viral Pneumonia Training Data folder\n",
      "Created Normal Training Data folder\n",
      "Created COVID Validation Data folder\n",
      "Created Viral Pneumonia Validation Data folder\n",
      "Created Normal Validation Data folder\n",
      "Created COVID Test Data folder\n",
      "Created Viral Pneumonia Test Data folder\n",
      "Created Normal Test Data folder\n",
      "Created COVID Webapp Prediction Data folder\n",
      "Created Viral Pneumonia Webapp Prediction Data folder\n",
      "Created Normal Webapp Prediction Data folder\n"
     ]
    }
   ],
   "source": [
    "#Creating the directories and folders \n",
    "#for training, validation, model testing and webapp prediction datasets\n",
    "Target_Dir = 'ThreeLabelDataset'\n",
    "Covid_Train_Dir = 'ThreeLabelDataset/Train/COVID'\n",
    "Pneumonia_Train_Dir = 'ThreeLabelDataset/Train/ViralPneumonia'\n",
    "Normal_Train_Dir = 'ThreeLabelDataset/Train/Normal'\n",
    "\n",
    "Covid_Val_Dir = 'ThreeLabelDataset/Validation/COVID'\n",
    "Pneumonia_Val_Dir = 'ThreeLabelDataset/Validation/ViralPneumonia'\n",
    "Normal_Val_Dir = 'ThreeLabelDataset/Validation/Normal'\n",
    "\n",
    "Covid_Test_Dir = 'ThreeLabelDataset/Test/COVID'\n",
    "Pneumonia_Test_Dir= 'ThreeLabelDataset/Test/ViralPneumonia'\n",
    "Normal_Test_Dir = 'ThreeLabelDataset/Test/Normal'\n",
    "\n",
    "Covid_WebPred_Dir = 'ThreeLabelDataset/WebAppPrediction/COVID'\n",
    "Pneumonia_WebPred_Dir = 'ThreeLabelDataset/WebAppPrediction/ViralPneumonia'\n",
    "Normal_WebPred_Dir = 'ThreeLabelDataset/WebAppPrediction/Normal'\n",
    "\n",
    "\n",
    "if not os.path.exists(Target_Dir):\n",
    "    os.makedirs(Target_Dir)\n",
    "    print(\"Created ThreeLabel Dataset folder\")\n",
    "    \n",
    "    os.makedirs(Covid_Train_Dir)\n",
    "    print(\"Created COVID Training Data folder\")\n",
    "    os.makedirs(Pneumonia_Train_Dir)\n",
    "    print(\"Created Viral Pneumonia Training Data folder\")\n",
    "    os.makedirs(Normal_Train_Dir)\n",
    "    print(\"Created Normal Training Data folder\")\n",
    "    \n",
    "    os.makedirs(Covid_Val_Dir)\n",
    "    print(\"Created COVID Validation Data folder\")\n",
    "    os.makedirs(Pneumonia_Val_Dir)\n",
    "    print(\"Created Viral Pneumonia Validation Data folder\")\n",
    "    os.makedirs(Normal_Val_Dir)\n",
    "    print(\"Created Normal Validation Data folder\")\n",
    "    \n",
    "    os.makedirs(Covid_Test_Dir)\n",
    "    print(\"Created COVID Test Data folder\")\n",
    "    os.makedirs(Pneumonia_Test_Dir)\n",
    "    print(\"Created Viral Pneumonia Test Data folder\")\n",
    "    os.makedirs(Normal_Test_Dir)\n",
    "    print(\"Created Normal Test Data folder\")\n",
    "    \n",
    "    os.makedirs(Covid_WebPred_Dir)\n",
    "    print(\"Created COVID Webapp Prediction Data folder\")\n",
    "    os.makedirs(Pneumonia_WebPred_Dir)\n",
    "    print(\"Created Viral Pneumonia Webapp Prediction Data folder\")\n",
    "    os.makedirs(Normal_WebPred_Dir)\n",
    "    print(\"Created Normal Webapp Prediction Data folder\")\n",
    "    "
   ]
  },
  {
   "cell_type": "code",
   "execution_count": 20,
   "metadata": {},
   "outputs": [
    {
     "name": "stdout",
     "output_type": "stream",
     "text": [
      "Total number of COVID images:  1200\n",
      "Total number of Viral Pneumonia images:  1345\n",
      "Total number of Normal images:  1341\n"
     ]
    }
   ],
   "source": [
    "#Save all the image file names into arrays \n",
    "Covid_image_names = os.listdir(COVID_IMAGES_PATH)\n",
    "Pneumonia_image_names = os.listdir(VIRAL_PNEUMONIA_IMAGES_PATH)\n",
    "Normal_image_names = os.listdir(NORMAL_IMAGES_PATH)\n",
    "print(\"Total number of COVID images: \" , len(Covid_image_names))\n",
    "print(\"Total number of Viral Pneumonia images: \" , len(Pneumonia_image_names))\n",
    "print(\"Total number of Normal images: \" , len(Normal_image_names))"
   ]
  },
  {
   "cell_type": "code",
   "execution_count": 21,
   "metadata": {},
   "outputs": [
    {
     "name": "stdout",
     "output_type": "stream",
     "text": [
      "No. of COVID images to be used for training:  960\n",
      "No. of COVID images to be used for validation:  120\n",
      "No. of COVID images to be used for testing:  96\n",
      "Remaining COVID images that can be used for web application predictions:  24\n"
     ]
    }
   ],
   "source": [
    "#Splitting up all the COVID images into Training, Validation, Model Testing and Web App Prediction arrays\n",
    "Covid_image_names.sort() # to make sure that the filenames have a fixed order before shuffling\n",
    "#To make sure to have the same split each time this code is run, \n",
    "#we need to fix the random seed before shuffling the filenames\n",
    "random.seed(80) \n",
    "random.shuffle(Covid_image_names) # shuffles the ordering of image names\n",
    "\n",
    "split_1 = int(0.8 * len(Covid_image_names))\n",
    "split_2 = int(0.9 * len(Covid_image_names))\n",
    "split_3 = int(0.98 * len(Covid_image_names))\n",
    "Covid_train_img_names = Covid_image_names[:split_1]\n",
    "Covid_val_img_names = Covid_image_names[split_1:split_2]\n",
    "Covid_test_img_names = Covid_image_names[split_2:split_3]\n",
    "Covid_webpred_img_names = Covid_image_names[split_3:]\n",
    "\n",
    "print(\"No. of COVID images to be used for training: \",len(Covid_train_img_names))\n",
    "print(\"No. of COVID images to be used for validation: \",len(Covid_val_img_names))\n",
    "print(\"No. of COVID images to be used for testing: \",len(Covid_test_img_names))\n",
    "print(\"Remaining COVID images that can be used for web application predictions: \",len(Covid_webpred_img_names))\n",
    "\n"
   ]
  },
  {
   "cell_type": "code",
   "execution_count": 22,
   "metadata": {},
   "outputs": [
    {
     "name": "stdout",
     "output_type": "stream",
     "text": [
      "Copied  960  images from COVID dataset path to the COVID Training directory\n",
      "Copied  120  images from COVID dataset path to the COVID Validation directory\n",
      "Copied  96  images from COVID dataset path to the COVID Test directory\n",
      "Copied the remaining  24  images from COVID dataset path to the COVID WebApp Predictions directory\n"
     ]
    }
   ],
   "source": [
    "#Copying the images from the COVID directory to their respective Training, Testing, Validation and WebApp Prediction Datasets\n",
    "for i in range(len(Covid_train_img_names)):\n",
    "    img_element = Covid_train_img_names[i]\n",
    "    Covid_image_path = os.path.join(COVID_IMAGES_PATH,img_element)\n",
    "    Covid_train_img_path = os.path.join(Covid_Train_Dir,img_element)\n",
    "    shutil.copy2(Covid_image_path,Covid_train_img_path)\n",
    "print(\"Copied \",i+1,\" images from COVID dataset path to the COVID Training directory\")\n",
    "\n",
    "\n",
    "for i in range(len(Covid_val_img_names)):\n",
    "    img_element = Covid_val_img_names[i]\n",
    "    Covid_image_path = os.path.join(COVID_IMAGES_PATH,img_element)\n",
    "    Covid_val_img_path = os.path.join(Covid_Val_Dir,img_element)\n",
    "    shutil.copy2(Covid_image_path,Covid_val_img_path)\n",
    "print(\"Copied \",i+1,\" images from COVID dataset path to the COVID Validation directory\")\n",
    "\n",
    "\n",
    "for i in range(len(Covid_test_img_names)):\n",
    "    img_element = Covid_test_img_names[i]\n",
    "    Covid_image_path = os.path.join(COVID_IMAGES_PATH,img_element)\n",
    "    Covid_test_img_path = os.path.join(Covid_Test_Dir,img_element)\n",
    "    shutil.copy2(Covid_image_path,Covid_test_img_path)\n",
    "print(\"Copied \",i+1,\" images from COVID dataset path to the COVID Test directory\")\n",
    "\n",
    "for i in range(len(Covid_webpred_img_names)):\n",
    "    img_element = Covid_webpred_img_names[i]\n",
    "    Covid_image_path = os.path.join(COVID_IMAGES_PATH,img_element)\n",
    "    Covid_webpred_img_path = os.path.join(Covid_WebPred_Dir,img_element)\n",
    "    shutil.copy2(Covid_image_path,Covid_webpred_img_path)\n",
    "print(\"Copied the remaining \",i+1,\" images from COVID dataset path to the COVID WebApp Predictions directory\")"
   ]
  },
  {
   "cell_type": "code",
   "execution_count": 27,
   "metadata": {},
   "outputs": [
    {
     "name": "stdout",
     "output_type": "stream",
     "text": [
      "No. of Viral Pneumonia images to be sent to the Viral Pneumonia Training Dataset: 1076\n",
      "No. of Viral Pneumonia images to be sent to the Viral Pneumonia Validation Dataset: 134\n",
      "No. of Viral Pneumonia images to be sent to the Viral Pneumonia Testing Dataset: 108\n",
      "Remaining Viral Pneumonia images to be sent to the Viral Pneumonia Web App Prediction Dataset: 27\n"
     ]
    }
   ],
   "source": [
    "#Splitting up all the Viral Pneumonia images into Training, Validation, Model Testing and Web App Prediction arrays\n",
    "Pneumonia_image_names.sort()\n",
    "random.seed(50) \n",
    "random.shuffle(Pneumonia_image_names)\n",
    "split_1 = int(0.8 * (len(Pneumonia_image_names)))\n",
    "split_2 = int(0.9 * (len(Pneumonia_image_names)))\n",
    "split_3 = int(0.98 * (len(Pneumonia_image_names)))\n",
    "Pneumonia_train_img_names = Pneumonia_image_names[:split_1]\n",
    "Pneumonia_val_img_names = Pneumonia_image_names[split_1:split_2]\n",
    "Pneumonia_test_img_names = Pneumonia_image_names[split_2: split_3]\n",
    "Pneumonia_webpred_img_names = Pneumonia_image_names[split_3:]\n",
    "\n",
    "print(\"No. of Viral Pneumonia images to be sent to the Viral Pneumonia Training Dataset:\",len(Pneumonia_train_img_names))\n",
    "print(\"No. of Viral Pneumonia images to be sent to the Viral Pneumonia Validation Dataset:\",len(Pneumonia_val_img_names))\n",
    "print(\"No. of Viral Pneumonia images to be sent to the Viral Pneumonia Testing Dataset:\",len(Pneumonia_test_img_names))\n",
    "print(\"Remaining Viral Pneumonia images to be sent to the Viral Pneumonia Web App Prediction Dataset:\",len(Pneumonia_webpred_img_names))\n",
    "\n"
   ]
  },
  {
   "cell_type": "code",
   "execution_count": 28,
   "metadata": {},
   "outputs": [
    {
     "name": "stdout",
     "output_type": "stream",
     "text": [
      "Copied  1076  images from Viral Pneumonia dataset path to the Viral Pneumonia Training directory\n",
      "Copied  134  images from Viral Pneumonia dataset path to the Viral Pneumonia Validation directory\n",
      "Copied  108  images from Viral Pneumonia dataset path to the Viral Pneumonia Test directory\n",
      "Copied the remaining  27  images from Viral Pneumonia dataset path to the Viral Pneumonia WebApp Predictions directory\n"
     ]
    }
   ],
   "source": [
    "#Copying the images from the Viral Pneumonia directory to their respective Training, Testing, Validation and WebApp Prediction Datasets\n",
    "for i in range(len(Pneumonia_train_img_names)):\n",
    "    img_element = Pneumonia_train_img_names[i]\n",
    "    Pneumonia_image_path = os.path.join(VIRAL_PNEUMONIA_IMAGES_PATH,img_element)\n",
    "    Pneumonia_train_img_path = os.path.join(Pneumonia_Train_Dir,img_element)\n",
    "    shutil.copy2(Pneumonia_image_path,Pneumonia_train_img_path)\n",
    "print(\"Copied \",i+1,\" images from Viral Pneumonia dataset path to the Viral Pneumonia Training directory\")\n",
    "\n",
    "\n",
    "for i in range(len(Pneumonia_val_img_names)):\n",
    "    img_element = Pneumonia_val_img_names[i]\n",
    "    Pneumonia_image_path = os.path.join(VIRAL_PNEUMONIA_IMAGES_PATH,img_element)\n",
    "    Pneumonia_val_img_path = os.path.join(Pneumonia_Val_Dir,img_element)\n",
    "    shutil.copy2(Pneumonia_image_path,Pneumonia_val_img_path)\n",
    "print(\"Copied \",i+1,\" images from Viral Pneumonia dataset path to the Viral Pneumonia Validation directory\")\n",
    "\n",
    "\n",
    "for i in range(len(Pneumonia_test_img_names)):\n",
    "    img_element = Pneumonia_test_img_names[i]\n",
    "    Pneumonia_image_path = os.path.join(VIRAL_PNEUMONIA_IMAGES_PATH,img_element)\n",
    "    Pneumonia_test_img_path = os.path.join(Pneumonia_Test_Dir,img_element)\n",
    "    shutil.copy2(Pneumonia_image_path,Pneumonia_test_img_path)\n",
    "print(\"Copied \",i+1,\" images from Viral Pneumonia dataset path to the Viral Pneumonia Test directory\")\n",
    "\n",
    "for i in range(len(Pneumonia_webpred_img_names)):\n",
    "    img_element = Pneumonia_webpred_img_names[i]\n",
    "    Pneumonia_image_path = os.path.join(VIRAL_PNEUMONIA_IMAGES_PATH,img_element)\n",
    "    Pneumonia_webpred_img_path = os.path.join(Pneumonia_WebPred_Dir,img_element)\n",
    "    shutil.copy2(Pneumonia_image_path,Pneumonia_webpred_img_path)\n",
    "print(\"Copied the remaining \",i+1,\" images from Viral Pneumonia dataset path to the Viral Pneumonia WebApp Predictions directory\")"
   ]
  },
  {
   "cell_type": "code",
   "execution_count": 29,
   "metadata": {},
   "outputs": [
    {
     "name": "stdout",
     "output_type": "stream",
     "text": [
      "No. of Normal images to be sent to the Normal Training Dataset: 1072\n",
      "No. of Normal images to be sent to the Normal Validation Dataset: 134\n",
      "No. of Normal images to be sent to the Normal Testing Dataset: 108\n",
      "Remaining Normal images to be sent to the Normal Web App Prediction Dataset: 27\n"
     ]
    }
   ],
   "source": [
    "#Splitting up all the Normal images into Training, Validation, Model Testing and Web App Prediction arrays\n",
    "Normal_image_names.sort() \n",
    "random.seed(40) \n",
    "random.shuffle(Normal_image_names) # shuffles the ordering of image names\n",
    "\n",
    "split_1 = int(0.8 * len(Normal_image_names))\n",
    "split_2 = int(0.9 * len(Normal_image_names))\n",
    "split_3 = int(0.98 * (len(Normal_image_names)))\n",
    "Normal_train_img_names = Normal_image_names[:split_1]\n",
    "Normal_val_img_names = Normal_image_names[split_1:split_2]\n",
    "Normal_test_img_names = Normal_image_names[split_2:split_3]\n",
    "Normal_webpred_img_names = Normal_image_names[split_3:]\n",
    "\n",
    "print(\"No. of Normal images to be sent to the Normal Training Dataset:\",len(Normal_train_img_names))\n",
    "print(\"No. of Normal images to be sent to the Normal Validation Dataset:\",len(Normal_val_img_names))\n",
    "print(\"No. of Normal images to be sent to the Normal Testing Dataset:\",len(Normal_test_img_names))\n",
    "print(\"Remaining Normal images to be sent to the Normal Web App Prediction Dataset:\",len(Normal_webpred_img_names))\n"
   ]
  },
  {
   "cell_type": "code",
   "execution_count": 30,
   "metadata": {},
   "outputs": [
    {
     "name": "stdout",
     "output_type": "stream",
     "text": [
      "Copied  1072  images from Normal images dataset path to the Normal images Training directory\n",
      "Copied  134  images from Normal images dataset path to the Normal images Validation directory\n",
      "Copied  108  images from Normal images dataset path to the Normal images Test directory\n",
      "Copied the remaining  27  images from Normal dataset path to the Normal WebApp Predictions directory\n"
     ]
    }
   ],
   "source": [
    "#Copying the images from the Normal directory to their respective Training, Testing, Validation and WebApp Prediction Datasets\n",
    "for i in range(len(Normal_train_img_names)):\n",
    "    img_element = Normal_train_img_names[i]\n",
    "    Normal_image_path = os.path.join(NORMAL_IMAGES_PATH,img_element)\n",
    "    Normal_train_img_path = os.path.join(Normal_Train_Dir,img_element)\n",
    "    shutil.copy2(Normal_image_path,Normal_train_img_path)\n",
    "print(\"Copied \",i+1,\" images from Normal images dataset path to the Normal images Training directory\")\n",
    "\n",
    "\n",
    "for i in range(len(Normal_val_img_names)):\n",
    "    img_element = Normal_val_img_names[i]\n",
    "    Normal_image_path = os.path.join(NORMAL_IMAGES_PATH,img_element)\n",
    "    Normal_val_img_path = os.path.join(Normal_Val_Dir,img_element)\n",
    "    shutil.copy2(Normal_image_path,Normal_val_img_path)\n",
    "print(\"Copied \",i+1,\" images from Normal images dataset path to the Normal images Validation directory\")\n",
    "\n",
    "\n",
    "for i in range(len(Normal_test_img_names)):\n",
    "    img_element = Normal_test_img_names[i]\n",
    "    Normal_image_path = os.path.join(NORMAL_IMAGES_PATH,img_element)\n",
    "    Normal_test_img_path = os.path.join(Normal_Test_Dir,img_element)\n",
    "    shutil.copy2(Normal_image_path,Normal_test_img_path)\n",
    "print(\"Copied \",i+1,\" images from Normal images dataset path to the Normal images Test directory\")\n",
    "\n",
    "for i in range(len(Normal_webpred_img_names)):\n",
    "    img_element = Normal_webpred_img_names[i]\n",
    "    Normal_image_path = os.path.join(NORMAL_IMAGES_PATH,img_element)\n",
    "    Normal_webpred_img_path = os.path.join(Normal_WebPred_Dir,img_element)\n",
    "    shutil.copy2(Normal_image_path,Normal_webpred_img_path)\n",
    "print(\"Copied the remaining \",i+1,\" images from Normal dataset path to the Normal WebApp Predictions directory\")"
   ]
  },
  {
   "cell_type": "markdown",
   "metadata": {},
   "source": [
    "Dataset for Three Label Classification has been prepared "
   ]
  }
 ],
 "metadata": {
  "kernelspec": {
   "display_name": "Python 3",
   "language": "python",
   "name": "python3"
  },
  "language_info": {
   "codemirror_mode": {
    "name": "ipython",
    "version": 3
   },
   "file_extension": ".py",
   "mimetype": "text/x-python",
   "name": "python",
   "nbconvert_exporter": "python",
   "pygments_lexer": "ipython3",
   "version": "3.8.6"
  }
 },
 "nbformat": 4,
 "nbformat_minor": 4
}
